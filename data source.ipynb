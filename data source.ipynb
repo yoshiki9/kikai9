{
 "cells": [
  {
   "cell_type": "markdown",
   "metadata": {},
   "source": [
    "# データソース"
   ]
  },
  {
   "cell_type": "markdown",
   "metadata": {},
   "source": [
    "## webサイト"
   ]
  },
  {
   "cell_type": "markdown",
   "metadata": {},
   "source": [
    "日本語  \n",
    "http://www.data.go.jp/  \n",
    "http://linkdata.org/  \n",
    "http://aws.amazon.com/public-data-sets/  \n",
    "http://www.google.com/publicdata/directory  \n",
    "http://www.e-stat.go.jp/SG1/estat/eStatTopPortal.do  \n",
    "\n",
    "英語  \n",
    "http://www.data.gov/  \n",
    "https://www.kaggle.com/"
   ]
  },
  {
   "cell_type": "markdown",
   "metadata": {},
   "source": [
    "## 適当なサンプル作成"
   ]
  },
  {
   "cell_type": "code",
   "execution_count": 18,
   "metadata": {
    "scrolled": true
   },
   "outputs": [
    {
     "data": {
      "text/plain": [
       "array([[ 0.78604526,  0.51754498,  1.24158587, -0.61493676, -0.55113971,\n",
       "         0.09014528,  0.53873843, -1.43158603, -0.27441411, -0.83347873],\n",
       "       [-0.22894054, -1.14738659, -0.38432208,  0.08287547,  0.55350454,\n",
       "         0.69832614,  0.43513696,  0.15292399,  0.61263903,  0.06711399],\n",
       "       [-0.58666437, -0.07074505,  0.35929889,  2.13033127,  1.80836695,\n",
       "        -1.33349152,  0.70903786,  0.70748844, -2.7800357 ,  0.1218056 ],\n",
       "       [-0.47080431,  1.6444144 ,  0.43014311, -1.79366568, -0.32052169,\n",
       "        -0.52137496,  1.21809234, -0.77460286,  1.87356452,  0.64877387],\n",
       "       [ 1.87000679, -0.31142931, -0.77305735,  0.21289882,  2.06301938,\n",
       "        -0.25360325,  0.64226499, -1.213532  , -1.25974186, -0.20633044],\n",
       "       [-1.17619394, -0.33500438,  1.23931269, -1.27233106,  0.26020343,\n",
       "        -0.13187915,  0.05428282, -0.70058865,  0.79169451, -0.59779518],\n",
       "       [ 1.78316936,  2.01777803, -0.15033616,  0.31216013, -0.14163365,\n",
       "        -1.20431147,  1.27457361, -1.00085144,  0.85697393,  0.71020033],\n",
       "       [-1.19373328,  0.76934124, -0.01882879,  0.70158656,  0.14602399,\n",
       "         1.31239665,  1.43529144, -1.10441823,  1.20238663,  0.80252869],\n",
       "       [-0.79931246, -1.15683597,  0.2872921 ,  0.76961843,  0.99744892,\n",
       "         1.24156179,  0.07204478, -1.54289646,  0.71301668,  0.87903611],\n",
       "       [-0.34980652, -0.11063796,  0.83684281,  0.80954503,  0.03810178,\n",
       "        -0.02846435,  1.33222706, -0.66777267,  0.18648865,  0.29086477]])"
      ]
     },
     "execution_count": 18,
     "metadata": {},
     "output_type": "execute_result"
    }
   ],
   "source": [
    "np.zeros(5)\n",
    "np.ones((5,5))\n",
    "np.empty((3,4))\n",
    "np.eye(5)\n",
    "np.arange(5, 50, 2)\n",
    "np.arange(9).reshape((3,3))\n",
    "np.random.randn(10, 10)\n",
    "np.random.permutation(4)\n",
    "np.random.randint(0, 5, size=10)\n",
    "np.random.seed(12345) # ランダムシード\n",
    "dframe = DataFrame(np.random.randn(5*5).reshape((5,5)),index=['A','B','D','E','F'],columns=['col1','col2','col3','col4','col5'])"
   ]
  }
 ],
 "metadata": {
  "anaconda-cloud": {},
  "kernelspec": {
   "display_name": "Python 3",
   "language": "python",
   "name": "python3"
  },
  "language_info": {
   "codemirror_mode": {
    "name": "ipython",
    "version": 3
   },
   "file_extension": ".py",
   "mimetype": "text/x-python",
   "name": "python",
   "nbconvert_exporter": "python",
   "pygments_lexer": "ipython3",
   "version": "3.6.0"
  }
 },
 "nbformat": 4,
 "nbformat_minor": 2
}
