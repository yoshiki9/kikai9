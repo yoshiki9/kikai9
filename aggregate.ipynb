{
 "cells": [
  {
   "cell_type": "markdown",
   "metadata": {},
   "source": [
    "# 前処理"
   ]
  },
  {
   "cell_type": "code",
   "execution_count": null,
   "metadata": {
    "collapsed": true
   },
   "outputs": [],
   "source": [
    "import pandas as pd\n",
    "from pandas import Series,DataFrame\n",
    "import numpy as np\n",
    "\n",
    "import matplotlib.pyplot as plt\n",
    "import seaborn as sns\n",
    "sns.set_style('whitegrid')\n",
    "%matplotlib inline\n",
    "\n",
    "# seabornの日本語表示\n",
    "# IPAGothicをインストール。\n",
    "# 「~/.matplotlib/fontList.py3k.cache」を消す。\n",
    "import matplotlib as mpl\n",
    "mpl.rcParams['font.family'] = 'IPAGothic'\n",
    "sns.set(font=['IPAGothic'])"
   ]
  },
  {
   "cell_type": "markdown",
   "metadata": {
    "scrolled": true
   },
   "source": [
    "# sr.value_counts()"
   ]
  },
  {
   "cell_type": "code",
   "execution_count": null,
   "metadata": {
    "collapsed": true
   },
   "outputs": [],
   "source": [
    "sr.value_counts(dropna=False, sort=False)"
   ]
  },
  {
   "cell_type": "markdown",
   "metadata": {
    "scrolled": true
   },
   "source": [
    "# df.pivot()"
   ]
  },
  {
   "cell_type": "code",
   "execution_count": null,
   "metadata": {
    "collapsed": true
   },
   "outputs": [],
   "source": [
    "# 行にdate, 列にvariable、これをvalueで埋めます。\n",
    "# 行、列が重複ればエラー。\n",
    "dframe_piv = dframe.pivot('date','variable','value')\n",
    "\n"
   ]
  },
  {
   "cell_type": "markdown",
   "metadata": {
    "scrolled": true
   },
   "source": [
    "# groupby"
   ]
  },
  {
   "cell_type": "code",
   "execution_count": null,
   "metadata": {
    "collapsed": true
   },
   "outputs": [],
   "source": [
    "dframe = DataFrame({'k1':['X','X','Y','Y','Z'],\n",
    "                    'k2':['alpha','beta','alpha','beta','alpha'],\n",
    "                    'dataset1':np.random.randn(5),\n",
    "                    'dataset2':np.random.randn(5)})\n",
    "dframe.groupby(['k1','k2'])[['dataset1', 'dataset2']].mean()\n",
    "dframe.groupby(['k1','k2'])[['dataset1', 'dataset2']].agg(\"mean\")\n",
    "def max_to_min(arr):\n",
    "    return arr.max() - arr.min()\n",
    "dframe.groupby(['k1','k2'])[['dataset1', 'dataset2']].agg(max_to_min)\n",
    "dframe.groupby(['k1','k2'])[['dataset1', 'dataset2']].describe()\n",
    "\n",
    "dframe.groupby([\"aaa\", \"aaa\", \"bbb\", \"bbb\", \"aaa\"]).mean() # 長さがあえば、任意のリストでグループ化できる。\n",
    "dframe[['dataset1', 'dataset2']].groupby([dframe['k1'], dframe['k2']]).mean()\n",
    "dframe.groupby(['k1','k2']).size().unstack() # 件数列のみ\n",
    "dframe.groupby('k1').count() # 残り全列のカウント\n",
    "poll_df = poll_df.groupby(['Start Date'],as_index=False).mean() # as_index:group化する列が、indexでなく列になる。\n",
    "\n",
    "# groupbyの代わりにPivotテーブルを使うこともできます。\n",
    "dframe.pivot_table(index=['k2']) # default mean\n",
    "dframe.pivot_table(index=['k1'], columns=['k2'], values=['dataset1'], aggfunc=lambda x:len(x), fill_value=0, margins=True) # margins:合計行,列\n",
    "\n",
    "occupation_df = donor_df.pivot_table(values='contb_receipt_amt', index='contbr_occupation', columns='Party', aggfunc='sum')\n",
    "\n",
    "pd.crosstab(index=dframe['k1'], columns=dframe['k2'], margins=True)\n",
    "\n",
    "# グループごとに連番を付ける。\n",
    "def ranker(df):\n",
    "    df['alc_content_rank'] = np.arange(len(df)) + 1\n",
    "    return df\n",
    "dframe_wine = dframe_wine.groupby('quality').apply(ranker)\n",
    "\n",
    "for name,group in dframe.groupby('k1'):\n",
    "    # name:'k1'の要素, group:dataframe\n",
    "    # リストの分割にも使える。\n",
    "for (k1,k2) , group in dframe.groupby(['k1','k2']):\n",
    "dframe.groupby('k1').get_group('X') # dataframe\n",
    "# リストを作ってそれを辞書にするこもできます。\n",
    "group_dict = dict(list(dframe.groupby('k1')))\n",
    "group_dict['X']"
   ]
  },
  {
   "cell_type": "markdown",
   "metadata": {
    "collapsed": true
   },
   "source": [
    "母数の違いは仕方ない  \n",
    "母数と有意性がある特徴で、再層化すべき。"
   ]
  }
 ],
 "metadata": {
  "anaconda-cloud": {},
  "kernelspec": {
   "display_name": "Python 3",
   "language": "python",
   "name": "python3"
  },
  "language_info": {
   "codemirror_mode": {
    "name": "ipython",
    "version": 3
   },
   "file_extension": ".py",
   "mimetype": "text/x-python",
   "name": "python",
   "nbconvert_exporter": "python",
   "pygments_lexer": "ipython3",
   "version": "3.6.0"
  }
 },
 "nbformat": 4,
 "nbformat_minor": 2
}
