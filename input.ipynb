{
 "cells": [
  {
   "cell_type": "markdown",
   "metadata": {},
   "source": [
    "# 前処理"
   ]
  },
  {
   "cell_type": "code",
   "execution_count": null,
   "metadata": {
    "collapsed": true
   },
   "outputs": [],
   "source": [
    "import pandas as pd\n",
    "from pandas import Series,DataFrame\n",
    "import numpy as np"
   ]
  },
  {
   "cell_type": "markdown",
   "metadata": {},
   "source": [
    "# 定型ファイルからの読込"
   ]
  },
  {
   "cell_type": "markdown",
   "metadata": {},
   "source": [
    "## excel"
   ]
  },
  {
   "cell_type": "markdown",
   "metadata": {},
   "source": [
    "基本形"
   ]
  },
  {
   "cell_type": "code",
   "execution_count": null,
   "metadata": {
    "collapsed": true
   },
   "outputs": [],
   "source": [
    "df = pd.read_excel('sample.xlsx', sheetname='Sheet1', header=0) # header : int, list of ints, default 0"
   ]
  },
  {
   "cell_type": "markdown",
   "metadata": {},
   "source": [
    "複数ブック、シート"
   ]
  },
  {
   "cell_type": "code",
   "execution_count": null,
   "metadata": {
    "collapsed": true
   },
   "outputs": [],
   "source": [
    "import os\n",
    "df = pd.DataFrame()\n",
    "folder = r\"D:\\LH28年度\\73-FD09_ガス科学館来場者分析業務\\input\"\n",
    "for book in [\"（ガス科学館）見学受付データ抽出.xls\", \"（エネルギー館）見学受付データ抽出.xls\"]:\n",
    "    path = os.path.join(folder, book)\n",
    "    for sheet in [\"次世代\",\"会社関係\",\"一般団体\",\"イベント\"]:\n",
    "        dft = pd.read_excel(path, sheetname=sheet)\n",
    "        dft[\"bookname\"] = os.path.basename(path)\n",
    "        dft[\"sheetname\"] = sheet\n",
    "        df = pd.concat([df, dft], ignore_index=True)\n",
    "# df = df.reset_index(drop=True) ← ignore_index=True のため不要。"
   ]
  },
  {
   "cell_type": "markdown",
   "metadata": {},
   "source": [
    "ワイルドカード, シートすべて"
   ]
  },
  {
   "cell_type": "code",
   "execution_count": null,
   "metadata": {
    "collapsed": true
   },
   "outputs": [],
   "source": [
    "import glob\n",
    "df = pd.DataFrame()\n",
    "folder = r\"D:\\LH28年度\\73-FD09_ガス科学館来場者分析業務\\input\"\n",
    "for path in glob.glob(folder + \"\\\\（*.xls\"):\n",
    "    dft = pd.read_excel(path, sheetname=None) # dictionary{sheetname:dataframe}\n",
    "    for key in dft.keys():\n",
    "        dft[key][\"bookname\"] = os.path.basename(path)\n",
    "        dft[key][\"sheetname\"] = key\n",
    "        df = pd.concat([df, dft[key]], ignore_index=True)"
   ]
  },
  {
   "cell_type": "markdown",
   "metadata": {},
   "source": [
    "## csv"
   ]
  },
  {
   "cell_type": "code",
   "execution_count": null,
   "metadata": {
    "collapsed": true
   },
   "outputs": [],
   "source": [
    "df = pd.read_csv(\"PSQ_社内分類.csv\", encoding=\"shiftjis\")\n",
    "# read_csv() とread_table() の違いは、区切り文字がカンマ (,)になっているか、タブ (\\t) になっているかです。\n",
    "# sep引数\n",
    "# defaultは、','。'\\t'等指定。\n",
    "# header行    header=0    default 0 \n",
    "# 読み込む行数    nrows=2    default None"
   ]
  },
  {
   "cell_type": "markdown",
   "metadata": {},
   "source": [
    "# クリップボードからの読込"
   ]
  },
  {
   "cell_type": "code",
   "execution_count": null,
   "metadata": {
    "collapsed": true
   },
   "outputs": [],
   "source": [
    "df = pd.read_clipboard()"
   ]
  },
  {
   "cell_type": "markdown",
   "metadata": {},
   "source": [
    "# webからの読込"
   ]
  },
  {
   "cell_type": "markdown",
   "metadata": {},
   "source": [
    "### scikit-learn"
   ]
  },
  {
   "cell_type": "markdown",
   "metadata": {},
   "source": [
    "### API"
   ]
  },
  {
   "cell_type": "markdown",
   "metadata": {},
   "source": [
    "yahoo"
   ]
  },
  {
   "cell_type": "code",
   "execution_count": null,
   "metadata": {
    "collapsed": true
   },
   "outputs": [],
   "source": [
    "# http://qiita.com/HirofumiYashima/items/50d56ba229c364ae4960\n",
    "# !conda install pandas-datareader\n",
    "import pandas_datareader.data as web\n",
    "import datetime\n",
    "prices = web.DataReader(['CVX','XOM','BP'], 'yahoo', \n",
    "                               start=datetime.datetime(2010, 1, 1), \n",
    "                               end=datetime.datetime(2013, 1, 1))['Adj Close']"
   ]
  },
  {
   "cell_type": "markdown",
   "metadata": {},
   "source": [
    "### スクレイピングは最後の手段"
   ]
  },
  {
   "cell_type": "markdown",
   "metadata": {},
   "source": [
    "web上のテーブル"
   ]
  },
  {
   "cell_type": "code",
   "execution_count": null,
   "metadata": {
    "collapsed": true
   },
   "outputs": [],
   "source": [
    "#pip install beautiful-soup\n",
    "#pip install html5lib\n",
    "import pandas as pd\n",
    "url = 'http://www.fdic.gov/bank/individual/failed/banklist.html'\n",
    "dframe_list = pd.io.html.read_html(url)\n",
    "dframe_list[0]"
   ]
  }
 ],
 "metadata": {
  "anaconda-cloud": {},
  "kernelspec": {
   "display_name": "Python [default]",
   "language": "python",
   "name": "python3"
  },
  "language_info": {
   "codemirror_mode": {
    "name": "ipython",
    "version": 3
   },
   "file_extension": ".py",
   "mimetype": "text/x-python",
   "name": "python",
   "nbconvert_exporter": "python",
   "pygments_lexer": "ipython3",
   "version": "3.5.2"
  }
 },
 "nbformat": 4,
 "nbformat_minor": 2
}
