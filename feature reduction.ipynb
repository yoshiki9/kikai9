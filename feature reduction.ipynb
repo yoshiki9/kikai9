{
 "cells": [
  {
   "cell_type": "markdown",
   "metadata": {},
   "source": [
    "# PCA"
   ]
  },
  {
   "cell_type": "code",
   "execution_count": null,
   "metadata": {
    "collapsed": true
   },
   "outputs": [],
   "source": [
    "from sklearn.decomposition import PCA\n",
    "pca = PCA()\n",
    "pca.fit(X)\n",
    "X_new = pca.transform(X)\n",
    "pca.explained_variance_ # 新しい座標系での分散。固有値と一致。\n",
    "pca.explained_variance_ratio_ # 各軸の分散の割合。寄与率\n",
    "plt.plot(pca.explained_variance_ratio_)\n",
    "plt.plot(np.add.accumulate(pca.explained_variance_ratio_))"
   ]
  },
  {
   "cell_type": "markdown",
   "metadata": {},
   "source": [
    "# (参考)多項式展開"
   ]
  },
  {
   "cell_type": "markdown",
   "metadata": {},
   "source": [
    "特徴量を非線形にするよりは、非線形な識別器を使う方が良い。\n",
    "特徴量は、線形まで。"
   ]
  },
  {
   "cell_type": "markdown",
   "metadata": {},
   "source": [
    "degree 1: $x_1, x_2, x_3$\n",
    "\n",
    "degree 2: $x_1 x_2, x_1 x_3, x_2 x_3$\n",
    "\n",
    "degree 3: $x_1 x_2 x_3$"
   ]
  },
  {
   "cell_type": "markdown",
   "metadata": {},
   "source": [
    "degree 1: $x_1, x_2, x_3, x_4$\n",
    "\n",
    "degree 2: $x_1 x_2, x_1 x_3, x_1 x_4, x_2 x_3, x_2 x_4, x_3 x_4$\n",
    "\n",
    "degree 3: $x_1 x_2 x_3, x_1 x_2 x_4, x_1 x_3 x_4, x_2 x_3 x_4$\n",
    "\n",
    "degree 4: $x_1 x_2 x_3 x_4$"
   ]
  },
  {
   "cell_type": "code",
   "execution_count": null,
   "metadata": {
    "collapsed": true
   },
   "outputs": [],
   "source": [
    "from sklearn.preprocessing import PolynomialFeatures\n",
    "polf = PolynomialFeatures(degree=2)\n",
    "polf.fit(X_train)\n",
    "X_train_poly = polf.transform(X_train)\n",
    "X_test_poly  = polf.transform(X_test)\n",
    "clf.fit(X_train_poly, y_train)\n",
    "clf.score(X_test_poly, y_test)"
   ]
  }
 ],
 "metadata": {
  "anaconda-cloud": {},
  "kernelspec": {
   "display_name": "Python 3",
   "language": "python",
   "name": "python3"
  },
  "language_info": {
   "codemirror_mode": {
    "name": "ipython",
    "version": 3
   },
   "file_extension": ".py",
   "mimetype": "text/x-python",
   "name": "python",
   "nbconvert_exporter": "python",
   "pygments_lexer": "ipython3",
   "version": "3.6.0"
  }
 },
 "nbformat": 4,
 "nbformat_minor": 2
}
