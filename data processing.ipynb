{
 "cells": [
  {
   "cell_type": "markdown",
   "metadata": {
    "collapsed": true
   },
   "source": [
    "# 前処理"
   ]
  },
  {
   "cell_type": "code",
   "execution_count": 2,
   "metadata": {
    "collapsed": true
   },
   "outputs": [],
   "source": [
    "import pandas as pd\n",
    "from pandas import Series,DataFrame\n",
    "import numpy as np"
   ]
  },
  {
   "cell_type": "markdown",
   "metadata": {},
   "source": [
    "# 一般"
   ]
  },
  {
   "cell_type": "markdown",
   "metadata": {},
   "source": [
    "index参照"
   ]
  },
  {
   "cell_type": "code",
   "execution_count": null,
   "metadata": {
    "collapsed": true
   },
   "outputs": [],
   "source": [
    "box = np.array(['A','B','C'])\n",
    "shaker = np.random.randint(0, len(box), size=10)\n",
    "box[shaker] # shakerの要素分boxから抽出する。"
   ]
  },
  {
   "cell_type": "markdown",
   "metadata": {},
   "source": [
    "np.where"
   ]
  },
  {
   "cell_type": "code",
   "execution_count": null,
   "metadata": {
    "collapsed": true
   },
   "outputs": [],
   "source": [
    "A = np.array([1,2,3,4])\n",
    "B = np.array([100,200,300,400])\n",
    "condition = np.array([True,True,False,False])\n",
    "# conditionの形がベールになる。\n",
    "np.where(condition,A,B)"
   ]
  },
  {
   "cell_type": "code",
   "execution_count": null,
   "metadata": {
    "collapsed": true
   },
   "outputs": [],
   "source": [
    "arr = np.random.randn(5,5)\n",
    "np.where(arr < 0, 0, arr)"
   ]
  },
  {
   "cell_type": "markdown",
   "metadata": {},
   "source": [
    "np.in1d"
   ]
  },
  {
   "cell_type": "code",
   "execution_count": null,
   "metadata": {
    "collapsed": true
   },
   "outputs": [],
   "source": [
    "np.in1d(['France','USA','Sweden'], ['France', 'Japan', 'USA', 'Russia','USA','Mexico','Japan'])"
   ]
  },
  {
   "cell_type": "markdown",
   "metadata": {},
   "source": [
    "連結"
   ]
  },
  {
   "cell_type": "code",
   "execution_count": null,
   "metadata": {
    "collapsed": true
   },
   "outputs": [],
   "source": [
    "arr1 = np.arange(9).reshape((3,3))\n",
    "np.concatenate([arr1,arr1],axis=1)"
   ]
  },
  {
   "cell_type": "markdown",
   "metadata": {},
   "source": [
    "行、列を消す"
   ]
  },
  {
   "cell_type": "code",
   "execution_count": null,
   "metadata": {
    "collapsed": true
   },
   "outputs": [],
   "source": [
    "# indexを指定して、行を削除\n",
    "dframe1.drop('LA') #, axis=0が省略されている\n",
    "# 列（カラム）を削除することも可能です。\n",
    "# その場合、列の軸を示す、axis=1が必要\n",
    "dframe1.drop('year',axis=1, inplace=True)\n",
    "occupation_df.drop(['INFORMATION REQUESTED PER BEST EFFORTS','INFORMATION REQUESTED'],axis=0,inplace=True)"
   ]
  },
  {
   "cell_type": "markdown",
   "metadata": {},
   "source": [
    "最小値をとるindex"
   ]
  },
  {
   "cell_type": "code",
   "execution_count": null,
   "metadata": {
    "collapsed": true
   },
   "outputs": [],
   "source": [
    "# 最小値を保持しているindexを調べられます。\n",
    "dframe1.idxmin()"
   ]
  },
  {
   "cell_type": "markdown",
   "metadata": {},
   "source": [
    "行、列名を変える。"
   ]
  },
  {
   "cell_type": "code",
   "execution_count": null,
   "metadata": {
    "collapsed": true
   },
   "outputs": [],
   "source": [
    "df.reindex(columns=new_columns, fill_value=0))\n",
    "# reindexは、該当なしを埋めることができる。ファンシーインデックスとの違い。\n",
    "df.rename(columns={'A': 'a'}, index={'ONE': 'one'}, inplace=True)\n",
    "# すべて変更\n",
    "df.index = ['one', 'two', 'three']\n",
    "df.columns = ['a', 'b', 'c']"
   ]
  },
  {
   "cell_type": "markdown",
   "metadata": {},
   "source": [
    "stack, unstack"
   ]
  },
  {
   "cell_type": "code",
   "execution_count": null,
   "metadata": {
    "collapsed": true
   },
   "outputs": [],
   "source": [
    "dframe = ser.unstack()\n",
    "# serは階層index\n",
    "dframe_st.unstack(0) # 階層0をunstack(列に移動)する。\n",
    "dframe_st.unstack('letter') # 階層\"letter\"をunstack(列に移動)する。\n",
    "# stackは、デフォルトでNaNを取り除きます。"
   ]
  },
  {
   "cell_type": "markdown",
   "metadata": {
    "collapsed": true
   },
   "source": [
    "マージ"
   ]
  },
  {
   "cell_type": "code",
   "execution_count": 1,
   "metadata": {
    "collapsed": false,
    "scrolled": false
   },
   "outputs": [
    {
     "ename": "NameError",
     "evalue": "name 'pd' is not defined",
     "output_type": "error",
     "traceback": [
      "\u001b[0;31m---------------------------------------------------------------------------\u001b[0m",
      "\u001b[0;31mNameError\u001b[0m                                 Traceback (most recent call last)",
      "\u001b[0;32m<ipython-input-1-e9df0dad73c7>\u001b[0m in \u001b[0;36m<module>\u001b[0;34m()\u001b[0m\n\u001b[0;32m----> 1\u001b[0;31m \u001b[0mpm6\u001b[0m \u001b[1;33m=\u001b[0m \u001b[0mpd\u001b[0m\u001b[1;33m.\u001b[0m\u001b[0mmerge\u001b[0m\u001b[1;33m(\u001b[0m\u001b[0mpm6\u001b[0m\u001b[1;33m,\u001b[0m \u001b[0mdf\u001b[0m\u001b[1;33m[\u001b[0m\u001b[1;33m[\u001b[0m\u001b[1;34m'西暦出願番号'\u001b[0m\u001b[1;33m,\u001b[0m \u001b[1;34m\"2016年9月末実施状況細\"\u001b[0m\u001b[1;33m]\u001b[0m\u001b[1;33m]\u001b[0m\u001b[1;33m,\u001b[0m \u001b[0mon\u001b[0m\u001b[1;33m=\u001b[0m\u001b[1;34m'西暦出願番号'\u001b[0m\u001b[1;33m,\u001b[0m \u001b[0mhow\u001b[0m\u001b[1;33m=\u001b[0m\u001b[1;34m'left'\u001b[0m\u001b[1;33m)\u001b[0m\u001b[1;33m\u001b[0m\u001b[0m\n\u001b[0m\u001b[1;32m      2\u001b[0m \u001b[0mpm6\u001b[0m \u001b[1;33m=\u001b[0m \u001b[0mpd\u001b[0m\u001b[1;33m.\u001b[0m\u001b[0mmerge\u001b[0m\u001b[1;33m(\u001b[0m\u001b[0mpm6\u001b[0m\u001b[1;33m,\u001b[0m \u001b[0mdf\u001b[0m\u001b[1;33m[\u001b[0m\u001b[1;33m[\u001b[0m\u001b[1;34m'部門'\u001b[0m\u001b[1;33m,\u001b[0m \u001b[1;34m\"大分類\"\u001b[0m\u001b[1;33m,\u001b[0m \u001b[1;34m\"小分類\"\u001b[0m\u001b[1;33m,\u001b[0m \u001b[1;34m'出願番号'\u001b[0m\u001b[1;33m]\u001b[0m\u001b[1;33m]\u001b[0m\u001b[1;33m,\u001b[0m \u001b[0mleft_on\u001b[0m\u001b[1;33m=\u001b[0m\u001b[1;34m'西暦出願番号'\u001b[0m\u001b[1;33m,\u001b[0m \u001b[0mright_on\u001b[0m\u001b[1;33m=\u001b[0m\u001b[1;34m\"出願番号\"\u001b[0m\u001b[1;33m,\u001b[0m \u001b[0mhow\u001b[0m\u001b[1;33m=\u001b[0m\u001b[1;34m'left'\u001b[0m\u001b[1;33m)\u001b[0m\u001b[1;33m\u001b[0m\u001b[0m\n",
      "\u001b[0;31mNameError\u001b[0m: name 'pd' is not defined"
     ]
    }
   ],
   "source": [
    "pm6 = pd.merge(pm6, df[['西暦出願番号', \"2016年9月末実施状況細\"]], on='西暦出願番号', how='left')\n",
    "pm6 = pd.merge(pm6, df[['部門', \"大分類\", \"小分類\", '出願番号']], left_on='西暦出願番号', right_on=\"出願番号\", how='left')\n",
    "pd.merge(df_left, df_right, on=['key1', 'key2'], how='outer')\n",
    "# 追加する文字列を指定することも可能です。\n",
    "pd.merge(df_left,df_right, on='key1',suffixes=('_lefty','_righty'))"
   ]
  },
  {
   "cell_type": "markdown",
   "metadata": {},
   "source": [
    "連結(concatenation)"
   ]
  },
  {
   "cell_type": "code",
   "execution_count": null,
   "metadata": {
    "collapsed": true
   },
   "outputs": [],
   "source": [
    "# 行方向ならば列名で、列方向ならばindex名で連結する。\n",
    "pd.concat([ser1,ser2,ser1], axis=1)\n",
    "pd.concat([dframe1,dframe2],ignore_index=True)\n",
    "# ignore_index=Trueは、連結した後にindexを振り直す。"
   ]
  },
  {
   "cell_type": "markdown",
   "metadata": {},
   "source": [
    "indexの振り直し"
   ]
  },
  {
   "cell_type": "code",
   "execution_count": null,
   "metadata": {
    "collapsed": true
   },
   "outputs": [],
   "source": [
    "df.reset_index(drop=True)\n",
    "# drop=True を指定しなければ、旧インデックスがデータ列に移動します。"
   ]
  },
  {
   "cell_type": "markdown",
   "metadata": {},
   "source": [
    "ソート"
   ]
  },
  {
   "cell_type": "code",
   "execution_count": 6,
   "metadata": {
    "collapsed": false
   },
   "outputs": [
    {
     "data": {
      "text/html": [
       "<div>\n",
       "<table border=\"1\" class=\"dataframe\">\n",
       "  <thead>\n",
       "    <tr style=\"text-align: right;\">\n",
       "      <th></th>\n",
       "      <th>項目1</th>\n",
       "      <th>項目2</th>\n",
       "      <th>項目3</th>\n",
       "    </tr>\n",
       "  </thead>\n",
       "  <tbody>\n",
       "    <tr>\n",
       "      <th>鈴木</th>\n",
       "      <td>1</td>\n",
       "      <td>3</td>\n",
       "      <td>北海道</td>\n",
       "    </tr>\n",
       "    <tr>\n",
       "      <th>吉田</th>\n",
       "      <td>1</td>\n",
       "      <td>1</td>\n",
       "      <td>青森県</td>\n",
       "    </tr>\n",
       "    <tr>\n",
       "      <th>木村</th>\n",
       "      <td>3</td>\n",
       "      <td>5</td>\n",
       "      <td>埼玉県</td>\n",
       "    </tr>\n",
       "    <tr>\n",
       "      <th>田中</th>\n",
       "      <td>4</td>\n",
       "      <td>5</td>\n",
       "      <td>東京都</td>\n",
       "    </tr>\n",
       "    <tr>\n",
       "      <th>遠藤</th>\n",
       "      <td>6</td>\n",
       "      <td>9</td>\n",
       "      <td>大阪府</td>\n",
       "    </tr>\n",
       "  </tbody>\n",
       "</table>\n",
       "</div>"
      ],
      "text/plain": [
       "    項目1  項目2  項目3\n",
       "鈴木    1    3  北海道\n",
       "吉田    1    1  青森県\n",
       "木村    3    5  埼玉県\n",
       "田中    4    5  東京都\n",
       "遠藤    6    9  大阪府"
      ]
     },
     "execution_count": 6,
     "metadata": {},
     "output_type": "execute_result"
    }
   ],
   "source": [
    "df.sort_values(by=[\"項目1\", \"項目2\"], ascending=[True,False])\n",
    "df.sort_index()"
   ]
  },
  {
   "cell_type": "markdown",
   "metadata": {},
   "source": [
    "nanの箇所を置き換え"
   ]
  },
  {
   "cell_type": "code",
   "execution_count": null,
   "metadata": {
    "collapsed": true
   },
   "outputs": [],
   "source": [
    "ser1.combine_first(ser2)\n",
    "# Series(np.where(pd.isnull(ser1),ser2,ser1),index=ser1.index)と同じ。\n",
    "dframe_odds.combine_first(dframe_evens)"
   ]
  },
  {
   "cell_type": "markdown",
   "metadata": {},
   "source": [
    "重複データ"
   ]
  },
  {
   "cell_type": "code",
   "execution_count": 8,
   "metadata": {
    "collapsed": true
   },
   "outputs": [],
   "source": [
    "dframe.duplicated() # bool 重複があれば、2つめ以降がTrue。\n",
    "dframe.drop_duplicates() # 重複行を削除。defaultは、最初の行を残す。\n",
    "dframe.drop_duplicates(['key1']) # 特定列の重複行を削除\n",
    "# 最初の重複ではなく、最後のデータを残す事もできます。\n",
    "dframe.drop_duplicates(['key1'],take_last=True)"
   ]
  },
  {
   "cell_type": "markdown",
   "metadata": {},
   "source": [
    "apply"
   ]
  },
  {
   "cell_type": "code",
   "execution_count": null,
   "metadata": {
    "collapsed": true
   },
   "outputs": [],
   "source": [
    "def male_female_child(passenger):\n",
    "    # 年齢と性別のデータを取得します。\n",
    "    age,sex = passenger\n",
    "    # 年齢を調べて16歳未満なら、子供。それ以外は性別をそのまま返します。\n",
    "    if age < 16:\n",
    "        return 'child'\n",
    "    else:\n",
    "        return sex\n",
    "    \n",
    "# personという新しい列を追加します。\n",
    "titanic_df['person'] = titanic_df[['Age','Sex']].apply(male_female_child,axis=1)"
   ]
  },
  {
   "cell_type": "markdown",
   "metadata": {},
   "source": [
    "移動平均"
   ]
  },
  {
   "cell_type": "code",
   "execution_count": null,
   "metadata": {
    "collapsed": true
   },
   "outputs": [],
   "source": [
    "# 間隔ごとに移動平均を描いてみます。\n",
    "ma_day = [10,20,50]\n",
    "for ma in ma_day:\n",
    "    column_name = \"MA {}\".format(str(ma))\n",
    "    AAPL[column_name]=pd.rolling_mean(AAPL['Adj Close'],ma)"
   ]
  },
  {
   "cell_type": "markdown",
   "metadata": {},
   "source": [
    "変化率"
   ]
  },
  {
   "cell_type": "code",
   "execution_count": null,
   "metadata": {
    "collapsed": true
   },
   "outputs": [],
   "source": [
    "AAPL['Daily Return'] = AAPL['Adj Close'].pct_change()"
   ]
  },
  {
   "cell_type": "markdown",
   "metadata": {},
   "source": [
    "# 集計、学習用に加工"
   ]
  },
  {
   "cell_type": "markdown",
   "metadata": {},
   "source": [
    "集計  \n",
    "名義  \n",
    "    符号化。複数回答は、one-hot encoding。  \n",
    "順序  \n",
    "    符号化。  \n",
    "数値  \n",
    "    時には、カテゴリ化。  "
   ]
  },
  {
   "cell_type": "markdown",
   "metadata": {},
   "source": [
    "## nanは\"ERR\"にして集計する。"
   ]
  },
  {
   "cell_type": "markdown",
   "metadata": {},
   "source": [
    "機械学習  \n",
    "名義  \n",
    "    one-hot encoding  \n",
    "順序  \n",
    "    符号化。  \n",
    "数値  \n",
    "    時には、カテゴリ化。  "
   ]
  },
  {
   "cell_type": "markdown",
   "metadata": {},
   "source": [
    "ラベルは、必ず「整数」。"
   ]
  },
  {
   "cell_type": "markdown",
   "metadata": {},
   "source": [
    "符号化"
   ]
  },
  {
   "cell_type": "code",
   "execution_count": null,
   "metadata": {
    "collapsed": true
   },
   "outputs": [],
   "source": [
    "state_map={'Alma':'Colorado','Brian Head':'Utah','Fox Park':'Wyoming'}\n",
    "dframe['state'] = dframe['city'].map(state_map)\n",
    "# 辞書にない値は、nanになる。df,sr.replaceとの違い。\n",
    "ser1.replace({4:np.nan})\n",
    "\n",
    "def f(sno):\n",
    "    if sno[0] == \"昭\":\n",
    "        return str(int(sno[1:sno.find(\"-\")]) + 1925) + \"-\" + sno[sno.find(\"-\") + 1:].zfill(6)\n",
    "    elif sno[0] == \"平\":\n",
    "        return str(int(sno[1:sno.find(\"-\")]) + 1988) + \"-\" + sno[sno.find(\"-\") + 1:].zfill(6)\n",
    "    else:\n",
    "        return sno[:5] + sno[5:].zfill(6)\n",
    "df[\"出願番号\"] = df[\"出願番号\"].map(f)\n",
    "\n",
    "np.array([True, False]).astype(int)"
   ]
  },
  {
   "cell_type": "markdown",
   "metadata": {},
   "source": [
    "カテゴリ化"
   ]
  },
  {
   "cell_type": "code",
   "execution_count": 92,
   "metadata": {
    "collapsed": false
   },
   "outputs": [
    {
     "data": {
      "image/png": "[encoded data removed]",
      "text/plain": [
       "<matplotlib.figure.Figure at 0xa128190>"
      ]
     },
     "metadata": {},
     "output_type": "display_data"
    }
   ],
   "source": [
    "df = DataFrame(np.random.randn(200).reshape((100,2)),columns=['col1','col2'])\n",
    "# ヒストグラムで適当な区間を見つける。\n",
    "df[\"col1\"].hist()\n",
    "plt.hist(df[\"col1\"], ec='black') # bins=\"auto\", ec:edgecolor\n",
    "plt.hist(df[\"col1\"], bins=10)\n",
    "plt.hist(df[\"col1\"], bins=[-3, -2, -1, 0, 1, 2, 3]) # 最後はリストで。最左と最右がすべての値を含むように。\n",
    "# リストの要素は、左が開区間。右が閉区間。\n",
    "# 戻り値はタプル。(頻度, bins, コメント)\n",
    "\n",
    "# 最適な区間が見つかれば、binningする。\n",
    "# pd.cut(df[\"col1\"],bins=[-3, -2, -1, 0, 1, 2, 3])はカテゴリ型\n",
    "cate = pd.cut(df[\"col1\"],bins=[-3, -2, -1, 0, 1, 2, 3]).cat.categories.tolist()\n",
    "\n",
    "# カテゴリ化\n",
    "df[\"col1cate\"] = pd.cut(df[\"col1\"],bins=[-3, -2, -1, 0, 1, 2, 3]).map(lambda x: cate.index(x))"
   ]
  },
  {
   "cell_type": "code",
   "execution_count": null,
   "metadata": {
    "collapsed": true
   },
   "outputs": [],
   "source": []
  },
  {
   "cell_type": "code",
   "execution_count": null,
   "metadata": {
    "collapsed": true
   },
   "outputs": [],
   "source": []
  },
  {
   "cell_type": "code",
   "execution_count": null,
   "metadata": {
    "collapsed": true
   },
   "outputs": [],
   "source": []
  }
 ],
 "metadata": {
  "anaconda-cloud": {},
  "kernelspec": {
   "display_name": "Python 3",
   "language": "python",
   "name": "python3"
  },
  "language_info": {
   "codemirror_mode": {
    "name": "ipython",
    "version": 3
   },
   "file_extension": ".py",
   "mimetype": "text/x-python",
   "name": "python",
   "nbconvert_exporter": "python",
   "pygments_lexer": "ipython3",
   "version": "3.6.0"
  }
 },
 "nbformat": 4,
 "nbformat_minor": 2
}
