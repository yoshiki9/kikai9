{
 "cells": [
  {
   "cell_type": "markdown",
   "metadata": {},
   "source": [
    "# 学習、テスト"
   ]
  },
  {
   "cell_type": "markdown",
   "metadata": {},
   "source": [
    "学習とテストを分ける。 8 : 2  \n",
    "学習をcross validationし、ハイパーパラメーターを決める。  \n",
    "そのハイパーパラメーターを使って、学習データすべてで学習する。\n",
    "テストする。"
   ]
  },
  {
   "cell_type": "code",
   "execution_count": null,
   "metadata": {
    "collapsed": true
   },
   "outputs": [],
   "source": []
  },
  {
   "cell_type": "markdown",
   "metadata": {},
   "source": [
    "# hold out"
   ]
  },
  {
   "cell_type": "code",
   "execution_count": null,
   "metadata": {
    "collapsed": true
   },
   "outputs": [],
   "source": [
    "# 1回分割\n",
    "from sklearn.model_selection import ShuffleSplit\n",
    "ss = ShuffleSplit(n_splits=1,      # 分割を1個生成\n",
    "                  train_size=0.5,  # 学習は半分\n",
    "                  test_size =0.5,  # テストも半分\n",
    "                  random_state=0)  # 乱数種（再現用）\n",
    "train_index, test_index = next(ss.split(X)) \n",
    "X_train, X_test = X[train_index], X[test_index] # 学習データ，テストデータ\n",
    "y_train, y_test = y[train_index], y[test_index] # 学習データのラベル，テストデータのラベル\n",
    "\n",
    "# 複数回分割\n",
    "ss = ShuffleSplit(n_splits=10, \n",
    "                  train_size=0.5, \n",
    "                  test_size=0.5)\n",
    "for train_index, test_index in ss.split(X, y):\n",
    "    X_train, X_test = X[train_index], X[test_index]\n",
    "    y_train, y_test = y[train_index], y[test_index]\n",
    "\n",
    "    clf.fit(X_train, y_train)\n",
    "    print(clf.score(X_test, y_test))\n",
    "\n",
    "# 層の割合を維持して分割\n",
    "from sklearn.model_selection import StratifiedShuffleSplit\n",
    "ss = StratifiedShuffleSplit(n_splits=1, \n",
    "                            train_size=0.95, \n",
    "                            test_size=0.05, \n",
    "                            random_state=0)\n",
    "train_index, test_index = next(ss.split(X, y))\n",
    "X_train, X_test = X[train_index], X[test_index]\n",
    "y_train, y_test = y[train_index], y[test_index]"
   ]
  },
  {
   "cell_type": "markdown",
   "metadata": {
    "collapsed": true
   },
   "source": [
    "## cross validation"
   ]
  },
  {
   "cell_type": "code",
   "execution_count": null,
   "metadata": {
    "collapsed": true
   },
   "outputs": [],
   "source": [
    "from sklearn.model_selection import KFold\n",
    "ss = KFold(n_splits=10, shuffle=True)\n",
    "for train_index, test_index in ss.split(X, y):\n",
    "    X_train, X_test = X[train_index], X[test_index]\n",
    "    y_train, y_test = y[train_index], y[test_index]\n",
    "\n",
    "# 層の割合を維持して分割\n",
    "from sklearn.model_selection import StratifiedKFold\n",
    "ss = StratifiedKFold(n_splits=10, shuffle=True) # シャッフルしてから分割。\n",
    "for train_index, test_index in ss.split(X, y):\n",
    "    X_train, X_test = X[train_index], X[test_index]\n",
    "    y_train, y_test = y[train_index], y[test_index]\n",
    "\n",
    "# scoreまで一気に。\n",
    "from sklearn.model_selection import cross_val_score\n",
    "ave_score = cross_val_score(clf, X, y, cv=10) # StratifiedKFold\n",
    "# ave_scoreは、10個のスコアリスト。\n",
    "print(\"{0:4.2f} +/- {1:4.2f} %\".format(ave_score.mean() * 100, ave_score.std() * 100))\n",
    "\n",
    "# leave one out\n",
    "from sklearn.model_selection import LeaveOneOut\n",
    "loocv = LeaveOneOut()\n",
    "train_index, test_index = next(loocv.split(X, y))\n",
    "# scoreまで一気に。\n",
    "from sklearn.model_selection import cross_val_score\n",
    "scores = cross_val_score(clf, X, y,cv=loocv) # LeaveOneOut\n",
    "\n",
    "# leave p out\n",
    "from sklearn.model_selection import LeavePOut\n",
    "lpocv = LeavePOut(2)\n",
    "scores = cross_val_score(clf, X, y,cv=lpocv)\n",
    "\n",
    "# leave one-group out\n",
    "from sklearn.model_selection import LeaveOneGroupOut\n",
    "logocv = LeaveOneGroupOut()\n",
    "group = np.array(list(range(50))*12)\n",
    "group = np.sort(group[:y.size])\n",
    "for train_index, test_index in logocv.split(X, y, group):\n",
    "    X_train, X_test = X[train_index], X[test_index]\n",
    "    y_train, y_test = y[train_index], y[test_index]\n",
    "from sklearn.model_selection import cross_val_score\n",
    "scores = cross_val_score(clf,X, y,groups=group,cv=logocv) # LeaveOneGroupOut"
   ]
  },
  {
   "cell_type": "markdown",
   "metadata": {},
   "source": [
    "# ハイパーパラメータの調整"
   ]
  },
  {
   "cell_type": "code",
   "execution_count": null,
   "metadata": {
    "collapsed": true
   },
   "outputs": [],
   "source": []
  }
 ],
 "metadata": {
  "anaconda-cloud": {},
  "kernelspec": {
   "display_name": "Python 3",
   "language": "python",
   "name": "python3"
  },
  "language_info": {
   "codemirror_mode": {
    "name": "ipython",
    "version": 3
   },
   "file_extension": ".py",
   "mimetype": "text/x-python",
   "name": "python",
   "nbconvert_exporter": "python",
   "pygments_lexer": "ipython3",
   "version": "3.6.0"
  }
 },
 "nbformat": 4,
 "nbformat_minor": 2
}
