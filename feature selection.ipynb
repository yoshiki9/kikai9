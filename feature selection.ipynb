{
 "cells": [
  {
   "cell_type": "markdown",
   "metadata": {},
   "source": [
    "# カイ二乗"
   ]
  },
  {
   "cell_type": "code",
   "execution_count": null,
   "metadata": {
    "collapsed": true
   },
   "outputs": [],
   "source": [
    "from sklearn.feature_selection import SelectKBest\n",
    "from sklearn.feature_selection import chi2\n",
    "\n",
    "skb = SelectKBest(chi2, k=20) # 20個とってくる。\n",
    "skb.fit(X_train, y_train)\n",
    "X_train_new = skb.transform(X_train)\n",
    "# 選択した特徴をboolで表示。\n",
    "skb.get_support()\n",
    "data.feature_names[skb.get_support()]"
   ]
  },
  {
   "cell_type": "code",
   "execution_count": null,
   "metadata": {
    "collapsed": true
   },
   "outputs": [],
   "source": [
    "from sklearn.model_selection import StratifiedKFold\n",
    "from sklearn import linear_model\n",
    "clf = linear_model.LogisticRegression()\n",
    "\n",
    "k_range = np.arange(1, 31)\n",
    "scores = []\n",
    "std = []\n",
    "\n",
    "for k in k_range:\n",
    "\n",
    "    ss = StratifiedKFold(n_splits=10, \n",
    "                         shuffle=True, \n",
    "                         random_state=2)\n",
    "    score = []\n",
    "    for train_index, val_index in ss.split(X_train,\n",
    "                                           y_train):\n",
    "\n",
    "        X_train2, X_val = X[train_index], X[val_index]\n",
    "        y_train2, y_val = y[train_index], y[val_index]\n",
    "\n",
    "        skb = SelectKBest(chi2, k=k)\n",
    "        skb.fit(X_train2, y_train2)\n",
    "        \n",
    "        X_new_train2 = skb.transform(X_train2)\n",
    "        X_new_val    = skb.transform(X_val) # testもtrainのskbで変換する。\n",
    "        \n",
    "        clf.fit(X_new_train2, y_train2)\n",
    "        score.append( clf.score(X_new_val, y_val) )\n",
    "\n",
    "    scores.append( np.array(score).mean() )\n",
    "    std.append( np.array(score).std() )\n",
    "    \n",
    "scores = np.array(scores)\n",
    "std = np.array(std)"
   ]
  },
  {
   "cell_type": "code",
   "execution_count": null,
   "metadata": {
    "collapsed": true
   },
   "outputs": [],
   "source": [
    "plt.plot(k_range, scores)\n",
    "plt.errorbar(k_range, scores, yerr=std)\n",
    "plt.ylabel(\"accuracy\")"
   ]
  },
  {
   "cell_type": "code",
   "execution_count": null,
   "metadata": {
    "collapsed": true
   },
   "outputs": [],
   "source": [
    "best_k = k_range[np.argmax(scores)]\n",
    "skb = SelectKBest(chi2, k=best_k)\n",
    "skb.fit(X_train, y_train)\n",
    "X_train_best = skb.transform(X_train)\n",
    "X_test_best  = skb.transform(X_test)\n",
    "clf.fit(X_train_best, y_train)\n",
    "clf.score(X_test_best, y_test)"
   ]
  }
 ],
 "metadata": {
  "anaconda-cloud": {},
  "kernelspec": {
   "display_name": "Python 3",
   "language": "python",
   "name": "python3"
  },
  "language_info": {
   "codemirror_mode": {
    "name": "ipython",
    "version": 3
   },
   "file_extension": ".py",
   "mimetype": "text/x-python",
   "name": "python",
   "nbconvert_exporter": "python",
   "pygments_lexer": "ipython3",
   "version": "3.6.0"
  }
 },
 "nbformat": 4,
 "nbformat_minor": 2
}
