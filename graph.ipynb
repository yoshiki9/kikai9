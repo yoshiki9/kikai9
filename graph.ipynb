{
 "cells": [
  {
   "cell_type": "markdown",
   "metadata": {},
   "source": [
    "# 前処理"
   ]
  },
  {
   "cell_type": "code",
   "execution_count": 1,
   "metadata": {
    "collapsed": true
   },
   "outputs": [],
   "source": [
    "import pandas as pd\n",
    "from pandas import Series,DataFrame\n",
    "import numpy as np\n",
    "\n",
    "import matplotlib.pyplot as plt\n",
    "import seaborn as sns\n",
    "sns.set_style('whitegrid')\n",
    "%matplotlib inline\n",
    "\n",
    "# seabornの日本語表示\n",
    "# IPAGothicをインストール。\n",
    "# 「~/.matplotlib/fontList.py3k.cache」を消す。\n",
    "import matplotlib as mpl\n",
    "mpl.rcParams['font.family'] = 'IPAGothic'\n",
    "sns.set(font=['IPAGothic'])"
   ]
  },
  {
   "cell_type": "markdown",
   "metadata": {},
   "source": [
    "# 見やすさ処理"
   ]
  },
  {
   "cell_type": "code",
   "execution_count": null,
   "metadata": {
    "collapsed": true
   },
   "outputs": [],
   "source": [
    "plt.xlim(x_min, x_max)\n",
    "plt.ylim(0, 1)\n",
    "\n",
    "plt.tight_layout()\n",
    "plt.autoscale()"
   ]
  },
  {
   "cell_type": "code",
   "execution_count": null,
   "metadata": {
    "collapsed": true
   },
   "outputs": [],
   "source": [
    "# 描画のエリアを分割することもできます。\n",
    "fig, (axis1,axis2) = plt.subplots(1,2,sharey =True)\n",
    "sns.regplot(\"total_bill\",\"tip_pect\",tips,ax=axis1)\n",
    "sns.violinplot(y='tip_pect', x='size', data=tips.sort('size') ,ax=axis2)\n",
    "\n",
    "# 色\n",
    "plt.set_cmap(plt.cm.Paired)\n",
    "# 随時、plt.scatter(... , cmap=plt.cm.Paired)でも同じ。"
   ]
  },
  {
   "cell_type": "code",
   "execution_count": null,
   "metadata": {
    "collapsed": true
   },
   "outputs": [],
   "source": []
  },
  {
   "cell_type": "markdown",
   "metadata": {},
   "source": [
    "# dataframe"
   ]
  },
  {
   "cell_type": "markdown",
   "metadata": {},
   "source": [
    "## df.plot()"
   ]
  },
  {
   "cell_type": "code",
   "execution_count": null,
   "metadata": {
    "collapsed": true
   },
   "outputs": [],
   "source": [
    "dframe.plot() # 特徴ごとの折れ線グラフ 横軸がindex\n",
    "dframe_wine.plot(kind='scatter',x='quality',y='alcohol')"
   ]
  },
  {
   "cell_type": "code",
   "execution_count": null,
   "metadata": {
    "collapsed": true
   },
   "outputs": [],
   "source": []
  },
  {
   "cell_type": "markdown",
   "metadata": {},
   "source": [
    "## df.hist"
   ]
  },
  {
   "cell_type": "code",
   "execution_count": null,
   "metadata": {
    "collapsed": true
   },
   "outputs": [],
   "source": [
    "df[\"col1\"].hist()\n",
    "df.hist()\n"
   ]
  },
  {
   "cell_type": "markdown",
   "metadata": {},
   "source": [
    "# matplotlib"
   ]
  },
  {
   "cell_type": "markdown",
   "metadata": {},
   "source": [
    "## plt.hist"
   ]
  },
  {
   "cell_type": "code",
   "execution_count": 2,
   "metadata": {
    "collapsed": false
   },
   "outputs": [
    {
     "ename": "NameError",
     "evalue": "name 'randn' is not defined",
     "output_type": "error",
     "traceback": [
      "\u001b[0;31m---------------------------------------------------------------------------\u001b[0m",
      "\u001b[0;31mNameError\u001b[0m                                 Traceback (most recent call last)",
      "\u001b[0;32m<ipython-input-2-007faa347237>\u001b[0m in \u001b[0;36m<module>\u001b[0;34m()\u001b[0m\n\u001b[0;32m----> 1\u001b[0;31m \u001b[0mdataset1\u001b[0m \u001b[1;33m=\u001b[0m \u001b[0mrandn\u001b[0m\u001b[1;33m(\u001b[0m\u001b[1;36m100\u001b[0m\u001b[1;33m)\u001b[0m\u001b[1;33m\u001b[0m\u001b[0m\n\u001b[0m\u001b[1;32m      2\u001b[0m \u001b[0mplt\u001b[0m\u001b[1;33m.\u001b[0m\u001b[0mhist\u001b[0m\u001b[1;33m(\u001b[0m\u001b[0mdataset1\u001b[0m\u001b[1;33m)\u001b[0m\u001b[1;33m\u001b[0m\u001b[0m\n",
      "\u001b[0;31mNameError\u001b[0m: name 'randn' is not defined"
     ]
    }
   ],
   "source": [
    "dataset1 = np.random.randn(100)\n",
    "dataset2 = np.random.randn(80)\n",
    "plt.hist(dataset1, color='indianred', normed=True, cumulative=True)\n",
    "\n",
    "plt.hist(dataset1,normed=True,alpha=0.5,bins=20)\n",
    "plt.hist(dataset2,normed=True,alpha=0.5,bins=20, color='indianred')\n",
    "\n",
    "plt.hist(df[\"col1\"], ec='black') # bins=\"auto\", ec:edgecolor\n",
    "plt.hist(df[\"col1\"], bins=10)\n",
    "plt.hist(df[\"col1\"], bins=[-3, -2, -1, 0, 1, 2, 3]) # 最後はリストで。最左と最右がすべての値を含むように。"
   ]
  },
  {
   "cell_type": "markdown",
   "metadata": {},
   "source": [
    "## plt.scatter"
   ]
  },
  {
   "cell_type": "code",
   "execution_count": null,
   "metadata": {
    "collapsed": true
   },
   "outputs": [],
   "source": [
    "plt.scatter(X[:, 0], X[:, 1], c=y, s=50, marker='o') # c : 色別する特徴"
   ]
  },
  {
   "cell_type": "markdown",
   "metadata": {},
   "source": [
    "## plt.imshow"
   ]
  },
  {
   "cell_type": "code",
   "execution_count": null,
   "metadata": {
    "collapsed": true
   },
   "outputs": [],
   "source": [
    "points = np.arange(-5,5,0.01)\n",
    "dx,dy=np.meshgrid(points,points)\n",
    "plt.imshow(dx)"
   ]
  },
  {
   "cell_type": "code",
   "execution_count": null,
   "metadata": {
    "collapsed": true
   },
   "outputs": [],
   "source": [
    "z = (np.sin(dx) + np.sin(dy))\n",
    "plt.imshow(z)\n",
    "#カラーバーを出す\n",
    "plt.colorbar()\n",
    "# タイトルを付ける\n",
    "plt.title(\"Plot for sin(x)+sin(y)\")"
   ]
  },
  {
   "cell_type": "markdown",
   "metadata": {},
   "source": [
    "# seaborn"
   ]
  },
  {
   "cell_type": "markdown",
   "metadata": {},
   "source": [
    "## sns.heatmap"
   ]
  },
  {
   "cell_type": "code",
   "execution_count": null,
   "metadata": {
    "collapsed": true
   },
   "outputs": [],
   "source": [
    "flight_dframe = sns.load_dataset('flights')\n",
    "sns.heatmap(flight_dframe.pivot('month','year','passengers'), annot=True, fmt='d') # default fmt='.2g'\n",
    "sns.heatmap((flight_dframe.div(flight_dframe.sum(axis=1), axis=0) * 100), annot=True, fmt=\".3g\") # 横構成比\n",
    "#中心を指定して、色を変えられます。\n",
    "sns.heatmap(flight_dframe, center=flight_dframe.loc['January',1955] # カラーバーの中心を指定"
   ]
  },
  {
   "cell_type": "markdown",
   "metadata": {},
   "source": [
    "## sns.barplot"
   ]
  },
  {
   "cell_type": "code",
   "execution_count": null,
   "metadata": {
    "collapsed": true
   },
   "outputs": [],
   "source": [
    "sns.barplot('Year', y='Flights', data=year_dframe, ax=axis1)"
   ]
  },
  {
   "cell_type": "markdown",
   "metadata": {},
   "source": [
    "## sns.pairplot"
   ]
  },
  {
   "cell_type": "code",
   "execution_count": 1,
   "metadata": {
    "collapsed": false,
    "scrolled": true
   },
   "outputs": [
    {
     "ename": "NameError",
     "evalue": "name 'sns' is not defined",
     "output_type": "error",
     "traceback": [
      "\u001b[0;31m---------------------------------------------------------------------------\u001b[0m",
      "\u001b[0;31mNameError\u001b[0m                                 Traceback (most recent call last)",
      "\u001b[0;32m<ipython-input-1-eed29da52843>\u001b[0m in \u001b[0;36m<module>\u001b[0;34m()\u001b[0m\n\u001b[0;32m----> 1\u001b[0;31m \u001b[0msns\u001b[0m\u001b[1;33m.\u001b[0m\u001b[0mpairplot\u001b[0m\u001b[1;33m(\u001b[0m\u001b[0mdframe\u001b[0m\u001b[1;33m)\u001b[0m\u001b[1;33m\u001b[0m\u001b[0m\n\u001b[0m",
      "\u001b[0;31mNameError\u001b[0m: name 'sns' is not defined"
     ]
    }
   ],
   "source": [
    "sns.pairplot(dframe)"
   ]
  },
  {
   "cell_type": "markdown",
   "metadata": {},
   "source": [
    "## sns.jointplot"
   ]
  },
  {
   "cell_type": "code",
   "execution_count": null,
   "metadata": {
    "collapsed": true
   },
   "outputs": [],
   "source": [
    "data1 = np.random.randn(1000)\n",
    "data2 = np.random.randn(1000)\n",
    "\n",
    "# 同時分布（結合分布）\n",
    "sns.jointplot(data1,data2)\n",
    "sns.jointplot(data1,data2,kind='hex') # 重なる点は濃く。"
   ]
  },
  {
   "cell_type": "markdown",
   "metadata": {},
   "source": [
    "## sns.rugplot"
   ]
  },
  {
   "cell_type": "code",
   "execution_count": null,
   "metadata": {
    "collapsed": true
   },
   "outputs": [],
   "source": [
    "dataset1 = np.random.randn(100)\n",
    "plt.hist(dataset1,alpha=0.3)\n",
    "sns.rugplot(dataset1)"
   ]
  },
  {
   "cell_type": "markdown",
   "metadata": {
    "collapsed": true
   },
   "source": [
    "## sns.distplot"
   ]
  },
  {
   "cell_type": "code",
   "execution_count": null,
   "metadata": {
    "collapsed": true
   },
   "outputs": [],
   "source": [
    "dataset1 = np.random.randn(100)\n",
    "dataset2 = np.random.randn(100) + 2\n",
    "sns.distplot(dataset1,bins=25)\n",
    "sns.distplot(dataset2,bins=25)\n",
    "sns.distplot(dataset,rug=True,hist=False)\n",
    "# それぞれのグラフのスタイルを変更することもできます。\n",
    "sns.distplot(dataset,bins=25,\n",
    "             kde_kws={'color':'indianred','label':'KDE PLOT'},\n",
    "             hist_kws={'color':'blue','label':\"HISTOGRAM\"})"
   ]
  },
  {
   "cell_type": "markdown",
   "metadata": {},
   "source": [
    "## sns.kdeplot"
   ]
  },
  {
   "cell_type": "markdown",
   "metadata": {},
   "source": [
    "http://www.tsjshg.info/udemy/Lec49.html  \n",
    "分布を比較するのに見やすい?"
   ]
  },
  {
   "cell_type": "markdown",
   "metadata": {
    "collapsed": true
   },
   "source": [
    "## sns.boxplot"
   ]
  },
  {
   "cell_type": "code",
   "execution_count": null,
   "metadata": {
    "collapsed": true
   },
   "outputs": [],
   "source": [
    "data1 = np.random.randn(100)\n",
    "data2 = np.random.randn(100) + 2\n",
    "sns.boxplot(data=[data1,data2],whis=np.inf, orient=\"V\")\n",
    "# default whis=1.5\n",
    "# [ Q1 - whis * IQR, Q3 + whis * IQR ] が両端。\n",
    "# whis=np.inf(infinit) だと、最大値、最小値が髭の端になる。"
   ]
  },
  {
   "cell_type": "markdown",
   "metadata": {},
   "source": [
    "## sns.violinplot"
   ]
  },
  {
   "cell_type": "markdown",
   "metadata": {},
   "source": [
    "Violin/Viola plot はbox plotのシンプルさとKDEの情報量を兼ね備えます。"
   ]
  },
  {
   "cell_type": "code",
   "execution_count": null,
   "metadata": {
    "collapsed": true
   },
   "outputs": [],
   "source": [
    "data1 = np.random.randn(100)\n",
    "data2 = np.random.randn(100) + 2\n",
    "sns.violinplot(data =[data1,data2])\n",
    "\n",
    "sns.set_style(\"whitegrid\")\n",
    "tips = sns.load_dataset(\"tips\")\n",
    "sns.violinplot(x=\"time\", y=\"tip\", data=tips)\n",
    "sns.violinplot(x=\"day\", y=\"total_bill\", hue=\"sex\",  data=tips, palette=\"Set2\", split=True, scale=\"count\")"
   ]
  },
  {
   "cell_type": "markdown",
   "metadata": {},
   "source": [
    "## sns.lmplot"
   ]
  },
  {
   "cell_type": "code",
   "execution_count": null,
   "metadata": {
    "collapsed": true
   },
   "outputs": [],
   "source": [
    "sns.lmplot(\"total_bill\",\"tip\",tips, order=1,\n",
    "                   scatter_kws={'marker':'o', 'color':'indianred'},\n",
    "                   line_kws={'linewidth':1, 'color':'blue'})\n",
    "sns.lmplot(\"total_bill\", \"tip\", tips, fit_reg=False, hue=\"sex\",markers=[\"x\",\"o\"])\n",
    "# 離散的な値でもlmplot()は使えます。\n",
    "sns.lmplot(\"size\", \"tip\", tips, fit_reg=False)\n",
    "tips[\"sex2\"]=tips[\"sex\"].map({\"Male\":0, \"Female\":1})\n",
    "sns.lmplot(\"size\", \"sex2\", tips, fit_reg=False)\n",
    "# x_jitter=0.2 : 分布をx方向に広げることで、点の重なり具合がわかる。濃い色、大きな点で表すようなもの。\n",
    "tips[\"tip_pect\"]=100*(tips['tip']/tips['total_bill'])\n",
    "\" 平均値の推定\n",
    "\" This is useful when x is a discrete variable.\n",
    "sns.lmplot(\"size\", \"tip_pect\", tips, x_estimator=np.mean)"
   ]
  },
  {
   "cell_type": "markdown",
   "metadata": {},
   "source": [
    "# 識別マップ"
   ]
  },
  {
   "cell_type": "code",
   "execution_count": null,
   "metadata": {
    "collapsed": true
   },
   "outputs": [],
   "source": [
    "def plotBoundary(X, clf, mesh=True, boundary=True, n_neighbors=1):\n",
    "\n",
    "    # plot range\n",
    "    x_min = min(X[:,0])\n",
    "    x_max = max(X[:,0])\n",
    "    y_min = min(X[:,1])\n",
    "    y_max = max(X[:,1])\n",
    "\n",
    "    # visualizing decision function\n",
    "    XX, YY = np.mgrid[x_min:x_max:200j, y_min:y_max:200j] # make a grid\n",
    "    \n",
    "    Z = clf.predict(np.c_[XX.ravel(), YY.ravel()]) # evaluate the value \n",
    "    \n",
    "    Z = Z.reshape(XX.shape) # just reshape\n",
    "\n",
    "    if mesh:\n",
    "        plt.pcolormesh(XX, YY, Z, zorder=-10) # paint in 2 colors, if Z > 0 or not\n",
    "\n",
    "    if boundary:\n",
    "        plt.contour(XX, YY, Z, \n",
    "                    colors='k', linestyles='-', levels=[0])\n",
    "\n",
    "    plt.xlim(x_min, x_max)\n",
    "    plt.ylim(y_min, y_max)"
   ]
  },
  {
   "cell_type": "code",
   "execution_count": null,
   "metadata": {
    "collapsed": true
   },
   "outputs": [],
   "source": []
  },
  {
   "cell_type": "code",
   "execution_count": null,
   "metadata": {
    "collapsed": true
   },
   "outputs": [],
   "source": []
  }
 ],
 "metadata": {
  "anaconda-cloud": {},
  "kernelspec": {
   "display_name": "Python [default]",
   "language": "python",
   "name": "python3"
  },
  "language_info": {
   "codemirror_mode": {
    "name": "ipython",
    "version": 3
   },
   "file_extension": ".py",
   "mimetype": "text/x-python",
   "name": "python",
   "nbconvert_exporter": "python",
   "pygments_lexer": "ipython3",
   "version": "3.5.2"
  }
 },
 "nbformat": 4,
 "nbformat_minor": 2
}
