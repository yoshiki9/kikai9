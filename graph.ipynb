{
 "cells": [
  {
   "cell_type": "markdown",
   "metadata": {},
   "source": [
    "# 前処理"
   ]
  },
  {
   "cell_type": "code",
   "execution_count": 1,
   "metadata": {
    "collapsed": true
   },
   "outputs": [],
   "source": [
    "import pandas as pd\n",
    "from pandas import Series,DataFrame\n",
    "import numpy as np\n",
    "\n",
    "import matplotlib.pyplot as plt\n",
    "import seaborn as sns\n",
    "sns.set_style('whitegrid')\n",
    "%matplotlib inline\n",
    "\n",
    "# seabornの日本語表示\n",
    "# IPAGothicをインストール。\n",
    "# 「~/.matplotlib/fontList.py3k.cache」を消す。\n",
    "import matplotlib as mpl\n",
    "mpl.rcParams['font.family'] = 'IPAGothic'\n",
    "sns.set(font=['IPAGothic'])"
   ]
  },
  {
   "cell_type": "markdown",
   "metadata": {},
   "source": [
    "# 見やすさ処理"
   ]
  },
  {
   "cell_type": "code",
   "execution_count": null,
   "metadata": {
    "collapsed": true
   },
   "outputs": [],
   "source": [
    "plt.xlim(x_min, x_max)\n",
    "plt.ylim(0, 1)\n",
    "fig.set(xlim=(0,oldest))\n",
    "\n",
    "plt.yticks([]) # 目盛りなし\n",
    "\n",
    "plt.xlabel('Expected returns')\n",
    "plt.ylabel('Risk')\n",
    "\n",
    "plt.tight_layout()\n",
    "plt.autoscale()\n",
    "\n",
    "plt.ylabel('accurary')\n",
    "plt.xlabel('$\\log_{10}$(C)')\n",
    "\n",
    "plt.title('Accuracy for different values of C')\n",
    "plt.title(\"Final price distribution for Google Stock after {} days\".format(days), weight='bold');\n",
    "plt.suptitle(\"Sum of the Basis Functions\")\n",
    "\n",
    "fig.add_legend()\n",
    "plt.legend(loc=\"best\");\n",
    "\n",
    "plt.axis('off');"
   ]
  },
  {
   "cell_type": "code",
   "execution_count": null,
   "metadata": {
    "collapsed": true
   },
   "outputs": [],
   "source": [
    "# 描画のエリアを分割することもできます。\n",
    "fig, (axis1,axis2) = plt.subplots(1,2,sharey =True)\n",
    "sns.regplot(\"total_bill\",\"tip_pect\",tips,ax=axis1)\n",
    "sns.violinplot(y='tip_pect', x='size', data=tips.sort('size') ,ax=axis2)\n",
    "\n",
    "for i in range(10):\n",
    "    i_th_digit = data.images[data.target == i]\n",
    "    for j in range(0,15):\n",
    "        plt.subplot(10, 15, i * 15 + j +1) # 10行15列のグラフ区画の、左上から右へi * 15 + j +1番目のグラフを描画。\n",
    "        plt.axis('off')\n",
    "        plt.imshow(i_th_digit[j], interpolation='none')\n",
    "        \n",
    "# 色\n",
    "plt.set_cmap(plt.cm.Paired)\n",
    "plt.set_cmap(plt.cm.brg)\n",
    "# 随時、plt.scatter(... , cmap=plt.cm.Paired)でも同じ。\n",
    "plt.gray()\n",
    "from matplotlib.colors import ListedColormap as lcmap\n",
    "brgp = lcmap(['blue','red','green','purple'])\n",
    "plt.scatter(X[:, 0], X[:, 1], c=y, s=50, cmap=brgp);"
   ]
  },
  {
   "cell_type": "markdown",
   "metadata": {},
   "source": [
    "plt.figtext"
   ]
  },
  {
   "cell_type": "code",
   "execution_count": null,
   "metadata": {
    "collapsed": true
   },
   "outputs": [],
   "source": [
    "# 最初の株価\n",
    "plt.figtext(0.6, 0.8, s=\"Start price: {:0.2f}\".format(start_price))\n",
    "# 最終的な株価の平均値\n",
    "plt.figtext(0.6, 0.7, \"Mean final price: {:0.2f}\".format(simulations.mean()))\n",
    "# Value at Risk (信頼区間99%）\n",
    "plt.figtext(0.6, 0.6, \"VaR(0.99): {:0.2f}\".format(start_price - q))\n",
    "# 1パーセンタイル\n",
    "plt.figtext(0.15, 0.6, \"q(0.99): {:0.2f}\".format(q))"
   ]
  },
  {
   "cell_type": "markdown",
   "metadata": {},
   "source": [
    "plt.axvline"
   ]
  },
  {
   "cell_type": "code",
   "execution_count": null,
   "metadata": {
    "collapsed": true
   },
   "outputs": [],
   "source": [
    "# 1% クォンタイルに線を描きます\n",
    "plt.axvline(x=q, linewidth=4, color='r')\n",
    "plt.axvline(x=330, linewidth=4, color='grey')"
   ]
  },
  {
   "cell_type": "markdown",
   "metadata": {},
   "source": [
    "# dataframe"
   ]
  },
  {
   "cell_type": "markdown",
   "metadata": {},
   "source": [
    "## df.plot()"
   ]
  },
  {
   "cell_type": "code",
   "execution_count": null,
   "metadata": {
    "collapsed": true
   },
   "outputs": [],
   "source": [
    "dframe.plot() # 特徴ごとの折れ線グラフ 横軸がindex\n",
    "dframe_wine.plot(kind='scatter',x='quality',y='alcohol')\n",
    "AAPL['Adj Close'].plot(legend=True,figsize=(10,4))\n",
    "AAPL[['Adj Close','MA 10','MA 20','MA 50']].plot(subplots=False,figsize=(10,4))\n",
    "AAPL['Daily Return'].plot(figsize=(10,4),legend=True,linestyle='--',marker='o')\n",
    "std = pd.DataFrame(poll_df.std())\n",
    "avg.plot(yerr=std, kind='bar', legend=False)\n",
    "poll_df.plot(x='End Date',y=['Obama','Romney','Undecided'],marker='o',linestyle='')\n",
    "fig = poll_df.plot('Start Date','Difference',figsize=(12,4),marker='o',linestyle='-',color='purple', xlim=(329,356))\n",
    "occupation_df.plot(kind='barh',figsize=(10,12),cmap='seismic')"
   ]
  },
  {
   "cell_type": "code",
   "execution_count": null,
   "metadata": {
    "collapsed": true
   },
   "outputs": [],
   "source": []
  },
  {
   "cell_type": "markdown",
   "metadata": {},
   "source": [
    "## df.hist"
   ]
  },
  {
   "cell_type": "code",
   "execution_count": null,
   "metadata": {
    "collapsed": true
   },
   "outputs": [],
   "source": [
    "df[\"col1\"].hist()\n",
    "df.hist()\n",
    "titanic_df['Age'].hist(bins=70)"
   ]
  },
  {
   "cell_type": "markdown",
   "metadata": {},
   "source": [
    "# matplotlib"
   ]
  },
  {
   "cell_type": "markdown",
   "metadata": {},
   "source": [
    "## plt.hist"
   ]
  },
  {
   "cell_type": "code",
   "execution_count": 2,
   "metadata": {
    "collapsed": false,
    "scrolled": true
   },
   "outputs": [
    {
     "ename": "NameError",
     "evalue": "name 'randn' is not defined",
     "output_type": "error",
     "traceback": [
      "\u001b[0;31m---------------------------------------------------------------------------\u001b[0m",
      "\u001b[0;31mNameError\u001b[0m                                 Traceback (most recent call last)",
      "\u001b[0;32m<ipython-input-2-007faa347237>\u001b[0m in \u001b[0;36m<module>\u001b[0;34m()\u001b[0m\n\u001b[0;32m----> 1\u001b[0;31m \u001b[0mdataset1\u001b[0m \u001b[1;33m=\u001b[0m \u001b[0mrandn\u001b[0m\u001b[1;33m(\u001b[0m\u001b[1;36m100\u001b[0m\u001b[1;33m)\u001b[0m\u001b[1;33m\u001b[0m\u001b[0m\n\u001b[0m\u001b[1;32m      2\u001b[0m \u001b[0mplt\u001b[0m\u001b[1;33m.\u001b[0m\u001b[0mhist\u001b[0m\u001b[1;33m(\u001b[0m\u001b[0mdataset1\u001b[0m\u001b[1;33m)\u001b[0m\u001b[1;33m\u001b[0m\u001b[0m\n",
      "\u001b[0;31mNameError\u001b[0m: name 'randn' is not defined"
     ]
    }
   ],
   "source": [
    "dataset1 = np.random.randn(100)\n",
    "dataset2 = np.random.randn(80)\n",
    "plt.hist(dataset1, color='indianred', normed=True, cumulative=True)\n",
    "\n",
    "plt.hist(dataset1,normed=True,alpha=0.5,bins=20)\n",
    "plt.hist(dataset2,normed=True,alpha=0.5,bins=20, color='indianred')\n",
    "\n",
    "plt.hist(df[\"col1\"], ec='black') # bins=\"auto\", ec:edgecolor\n",
    "plt.hist(df[\"col1\"], bins=10)\n",
    "plt.hist(df[\"col1\"], bins=[-3, -2, -1, 0, 1, 2, 3]) # 最後はリストで。最左と最右がすべての値を含むように。\n",
    "\n",
    "plt.hist(dataset, cumulative=True)"
   ]
  },
  {
   "cell_type": "markdown",
   "metadata": {},
   "source": [
    "## plt.scatter"
   ]
  },
  {
   "cell_type": "code",
   "execution_count": null,
   "metadata": {
    "collapsed": true
   },
   "outputs": [],
   "source": [
    "plt.scatter(X[:, 0], X[:, 1], c=y, s=50, marker='o', alpha = 0.5)\n",
    "# c : 色別する特徴 又は、c='blue', 'red'\n",
    "plt.scatter(X_train_norm[:, 3], X_train_norm[:, 4], c='blue', label=\"train\")"
   ]
  },
  {
   "cell_type": "markdown",
   "metadata": {},
   "source": [
    "## plt.annotate"
   ]
  },
  {
   "cell_type": "code",
   "execution_count": null,
   "metadata": {
    "collapsed": true
   },
   "outputs": [],
   "source": [
    "# グラフにアノテーションを付けます。詳しくは、以下を参照してみてください。\n",
    "# http://matplotlib.org/users/annotations_guide.html\n",
    "for label, x, y in zip(rets.columns, rets.mean(), rets.std()):\n",
    "    plt.annotate(\n",
    "        label, \n",
    "        xy = (x, y), xytext = (0, 20),\n",
    "        textcoords = 'offset points', ha = 'right',\n",
    "        arrowprops = dict(arrowstyle='-', connectionstyle= 'arc3'))"
   ]
  },
  {
   "cell_type": "markdown",
   "metadata": {},
   "source": [
    "## plt.imshow"
   ]
  },
  {
   "cell_type": "code",
   "execution_count": null,
   "metadata": {
    "collapsed": true
   },
   "outputs": [],
   "source": [
    "points = np.arange(-5,5,0.01)\n",
    "dx,dy=np.meshgrid(points,points)\n",
    "plt.imshow(dx)\n",
    "plt.imshow(img[0], interpolation='none') # 滑らかなでなくカクカクに。"
   ]
  },
  {
   "cell_type": "code",
   "execution_count": null,
   "metadata": {
    "collapsed": true
   },
   "outputs": [],
   "source": [
    "z = (np.sin(dx) + np.sin(dy))\n",
    "plt.imshow(z)\n",
    "#カラーバーを出す\n",
    "plt.colorbar()\n",
    "# タイトルを付ける\n",
    "plt.title(\"Plot for sin(x)+sin(y)\")"
   ]
  },
  {
   "cell_type": "markdown",
   "metadata": {},
   "source": [
    "## plt.plot()"
   ]
  },
  {
   "cell_type": "code",
   "execution_count": null,
   "metadata": {
    "collapsed": true
   },
   "outputs": [],
   "source": [
    "plt.plot(scores)\n",
    "plt.plot(C_range_exp, all_scores_mean) # 折れ線グラフ\n",
    "plt.plot(x_axis,kernel,color = 'grey',alpha=0.5)\n",
    "# color='indianred' etc\n",
    "plt.plot([0, 1], [0, 1], linestyle='--')\n",
    "plt.plot(fpr, tpr, label=\"result\")\n",
    "plt.plot(recall, precision_interp, marker=\".\", label=\"interpolated precision\")"
   ]
  },
  {
   "cell_type": "markdown",
   "metadata": {},
   "source": [
    "## plt.errorbar()"
   ]
  },
  {
   "cell_type": "code",
   "execution_count": null,
   "metadata": {
    "collapsed": true
   },
   "outputs": [],
   "source": [
    "plt.errorbar(C_range_exp, \n",
    "             all_scores_mean, \n",
    "             yerr=all_scores_std) # 折れ線グラフの誤差付き"
   ]
  },
  {
   "cell_type": "markdown",
   "metadata": {},
   "source": [
    "## plt.bar()"
   ]
  },
  {
   "cell_type": "code",
   "execution_count": null,
   "metadata": {
    "collapsed": true
   },
   "outputs": [],
   "source": [
    "plt.bar(range(len(histRGBcat)), histRGBcat, yerr=std);"
   ]
  },
  {
   "cell_type": "markdown",
   "metadata": {},
   "source": [
    "# seaborn"
   ]
  },
  {
   "cell_type": "markdown",
   "metadata": {},
   "source": [
    "## sns.heatmap"
   ]
  },
  {
   "cell_type": "code",
   "execution_count": null,
   "metadata": {
    "collapsed": true
   },
   "outputs": [],
   "source": [
    "flight_dframe = sns.load_dataset('flights')\n",
    "sns.heatmap(flight_dframe.pivot('month','year','passengers'), annot=True, fmt='d') # default fmt='.2g'\n",
    "sns.heatmap((flight_dframe.div(flight_dframe.sum(axis=1), axis=0) * 100), annot=True, fmt=\".3g\") # 横構成比\n",
    "sns.heatmap(tech_rets.corr(), annot=True)\n",
    "#中心を指定して、色を変えられます。\n",
    "sns.heatmap(flight_dframe, center=flight_dframe.loc['January',1955] # カラーバーの中心を指定\n"
   ]
  },
  {
   "cell_type": "markdown",
   "metadata": {},
   "source": [
    "## sns.barplot"
   ]
  },
  {
   "cell_type": "code",
   "execution_count": null,
   "metadata": {
    "collapsed": true
   },
   "outputs": [],
   "source": [
    "sns.barplot('Year', y='Flights', data=year_dframe, ax=axis1)"
   ]
  },
  {
   "cell_type": "markdown",
   "metadata": {},
   "source": [
    "## sns.pairplot"
   ]
  },
  {
   "cell_type": "code",
   "execution_count": 1,
   "metadata": {
    "collapsed": false,
    "scrolled": true
   },
   "outputs": [
    {
     "ename": "NameError",
     "evalue": "name 'sns' is not defined",
     "output_type": "error",
     "traceback": [
      "\u001b[0;31m---------------------------------------------------------------------------\u001b[0m",
      "\u001b[0;31mNameError\u001b[0m                                 Traceback (most recent call last)",
      "\u001b[0;32m<ipython-input-1-eed29da52843>\u001b[0m in \u001b[0;36m<module>\u001b[0;34m()\u001b[0m\n\u001b[0;32m----> 1\u001b[0;31m \u001b[0msns\u001b[0m\u001b[1;33m.\u001b[0m\u001b[0mpairplot\u001b[0m\u001b[1;33m(\u001b[0m\u001b[0mdframe\u001b[0m\u001b[1;33m)\u001b[0m\u001b[1;33m\u001b[0m\u001b[0m\n\u001b[0m",
      "\u001b[0;31mNameError\u001b[0m: name 'sns' is not defined"
     ]
    }
   ],
   "source": [
    "sns.pairplot(dframe)\n",
    "sns.pairplot(tech_rets.dropna())"
   ]
  },
  {
   "cell_type": "markdown",
   "metadata": {},
   "source": [
    "## sns.PairGrid"
   ]
  },
  {
   "cell_type": "code",
   "execution_count": null,
   "metadata": {
    "collapsed": true
   },
   "outputs": [],
   "source": [
    "# データを格納しているDataFrameを引数にして、PairGridを作ります。\n",
    "returns_fig = sns.PairGrid(tech_rets.dropna())\n",
    "# 右上側に描くグラフの種類を指定します。\n",
    "returns_fig.map_upper(plt.scatter,color='purple')\n",
    "# 同じように、左下側には、KDEプロットを描くことにしましょう。\n",
    "returns_fig.map_lower(sns.kdeplot,cmap='cool_d')\n",
    "# 対角線上には、ヒストグラムを描くことにします。\n",
    "returns_fig.map_diag(plt.hist,bins=30)"
   ]
  },
  {
   "cell_type": "markdown",
   "metadata": {},
   "source": [
    "## sns.jointplot"
   ]
  },
  {
   "cell_type": "code",
   "execution_count": null,
   "metadata": {
    "collapsed": true
   },
   "outputs": [],
   "source": [
    "data1 = np.random.randn(1000)\n",
    "data2 = np.random.randn(1000)\n",
    "\n",
    "# 同時分布（結合分布）\n",
    "sns.jointplot(data1,data2)\n",
    "sns.jointplot(data1,data2,kind='hex') # 重なる点は濃く。\n",
    "sns.jointplot('GOOG','MSFT',tech_rets,kind='scatter',color='seagreen')\n",
    "sns.jointplot('X','Y', dframe, kind='kde')"
   ]
  },
  {
   "cell_type": "markdown",
   "metadata": {},
   "source": [
    "## sns.rugplot"
   ]
  },
  {
   "cell_type": "code",
   "execution_count": null,
   "metadata": {
    "collapsed": true
   },
   "outputs": [],
   "source": [
    "dataset1 = np.random.randn(100)\n",
    "plt.hist(dataset1,alpha=0.3, c = 'indianred')\n",
    "sns.rugplot(dataset1, color='black')"
   ]
  },
  {
   "cell_type": "markdown",
   "metadata": {
    "collapsed": true
   },
   "source": [
    "## sns.distplot"
   ]
  },
  {
   "cell_type": "code",
   "execution_count": null,
   "metadata": {
    "collapsed": true
   },
   "outputs": [],
   "source": [
    "dataset1 = np.random.randn(100)\n",
    "dataset2 = np.random.randn(100) + 2\n",
    "sns.distplot(dataset1,bins=25)\n",
    "sns.distplot(dataset2,bins=25)\n",
    "sns.distplot(dataset,rug=True,hist=False)\n",
    "# それぞれのグラフのスタイルを変更することもできます。\n",
    "sns.distplot(dataset,bins=25,\n",
    "             kde_kws={'color':'indianred','label':'KDE PLOT'},\n",
    "             hist_kws={'color':'blue','label':\"HISTOGRAM\"})\n",
    "# NaNを取り除くコードを書いておく必要があります。\n",
    "sns.distplot(AAPL['Daily Return'].dropna(),bins=100,color='purple')"
   ]
  },
  {
   "cell_type": "markdown",
   "metadata": {},
   "source": [
    "## sns.kdeplot"
   ]
  },
  {
   "cell_type": "markdown",
   "metadata": {},
   "source": [
    "分布を比較するのに見やすい?\n",
    "散布図でわわからない、分布の濃さがわかる。"
   ]
  },
  {
   "cell_type": "code",
   "execution_count": null,
   "metadata": {
    "collapsed": true
   },
   "outputs": [],
   "source": [
    "dataset = np.random.randn(25)\n",
    "sns.kdeplot(dataset)\n",
    "# バンド幅を変えてみましょう。\n",
    "for bw in np.arange(0.5,2,0.25):\n",
    "    sns.kdeplot(dataset,bw=bw,label=bw)\n",
    "# kernelごと\n",
    "kernel_options = [\"biw\", \"cos\", \"epa\", \"gau\", \"tri\", \"triw\"]\n",
    "for kern in kernel_options:\n",
    "    sns.kdeplot(dataset, kernel=kern, label=kern, shade=True, alpha=0.5, vertical=True)\n",
    "sns.kdeplot(dataset,cumulative=True)\n",
    "\n",
    "# 2次元平面上の中心\n",
    "mean = [0,0]\n",
    "# それぞれの分散を決めます。\n",
    "cov = [[1,0],[0,100]]\n",
    "# これに従う多変量正規分布\n",
    "dataset2 = np.random.multivariate_normal(mean,cov,1000)\n",
    "# DataFrameにしておきましょう。\n",
    "dframe = pd.DataFrame(dataset2,columns=['X','Y'])\n",
    "# プロットします。SeabornとPandasの相性は抜群\n",
    "sns.kdeplot(dframe, bw=1) # bw='silverman' etc\n",
    "# 列ごとに渡す。\n",
    "sns.kdeplot(dframe.X,dframe.Y, shade=True)"
   ]
  },
  {
   "cell_type": "markdown",
   "metadata": {
    "collapsed": true
   },
   "source": [
    "## sns.boxplot"
   ]
  },
  {
   "cell_type": "code",
   "execution_count": null,
   "metadata": {
    "collapsed": true
   },
   "outputs": [],
   "source": [
    "data1 = np.random.randn(100)\n",
    "data2 = np.random.randn(100) + 2\n",
    "sns.boxplot(data=[data1,data2],whis=np.inf, orient=\"V\")\n",
    "# default whis=1.5\n",
    "# [ Q1 - whis * IQR, Q3 + whis * IQR ] が両端。\n",
    "# whis=np.inf(infinit) だと、最大値、最小値が髭の端になる。"
   ]
  },
  {
   "cell_type": "markdown",
   "metadata": {},
   "source": [
    "## sns.violinplot"
   ]
  },
  {
   "cell_type": "markdown",
   "metadata": {},
   "source": [
    "Violin/Viola plot はbox plotのシンプルさとKDEの情報量を兼ね備えます。"
   ]
  },
  {
   "cell_type": "code",
   "execution_count": null,
   "metadata": {
    "collapsed": true
   },
   "outputs": [],
   "source": [
    "data1 = np.random.randn(100)\n",
    "data2 = np.random.randn(100) + 2\n",
    "sns.violinplot(data =[data1,data2])\n",
    "\n",
    "sns.set_style(\"whitegrid\")\n",
    "tips = sns.load_dataset(\"tips\")\n",
    "sns.violinplot(x=\"time\", y=\"tip\", data=tips)\n",
    "sns.violinplot(x=\"day\", y=\"total_bill\", hue=\"sex\",  data=tips, palette=\"Set2\", split=True, scale=\"count\")"
   ]
  },
  {
   "cell_type": "markdown",
   "metadata": {},
   "source": [
    "## sns.lmplot"
   ]
  },
  {
   "cell_type": "code",
   "execution_count": null,
   "metadata": {
    "collapsed": true
   },
   "outputs": [],
   "source": [
    "sns.lmplot(\"total_bill\",\"tip\",tips, order=1,\n",
    "                   scatter_kws={'marker':'o', 'color':'indianred'},\n",
    "                   line_kws={'linewidth':1, 'color':'blue'})\n",
    "# order : 近似多項式の次数\n",
    "sns.lmplot(\"total_bill\", \"tip\", tips, fit_reg=False, hue=\"sex\",markers=[\"x\",\"o\"])\n",
    "sns.lmplot('Age','Survived',hue='Pclass',data=titanic_df,palette='winter', hue_order=[1,2,3])\n",
    "# ポイントを決めて、標準偏差を追記できます。\n",
    "# x 軸の値を離散値に変換。例えば、50以上70未満を60に計上。\n",
    "# 定義域外の信頼区間は、カットされる。\n",
    "generations=[10,20,40,60,80]\n",
    "sns.lmplot('Age','Survived',hue='Pclass',data=titanic_df,palette='winter',x_bins=generations,hue_order=[1,2,3])\n",
    "\n",
    "# 離散的な値でもlmplot()は使えます。\n",
    "sns.lmplot(\"size\", \"tip\", tips, fit_reg=False)\n",
    "tips[\"sex2\"]=tips[\"sex\"].map({\"Male\":0, \"Female\":1})\n",
    "sns.lmplot(\"size\", \"sex2\", tips, fit_reg=False)\n",
    "# x_jitter=0.2 : 分布をx方向に広げることで、点の重なり具合がわかる。濃い色、大きな点で表すようなもの。\n",
    "tips[\"tip_pect\"]=100*(tips['tip']/tips['total_bill'])\n",
    "\" 平均値の推定\n",
    "\" This is useful when x is a discrete variable.\n",
    "sns.lmplot(\"size\", \"tip_pect\", tips, x_estimator=np.mean)"
   ]
  },
  {
   "cell_type": "markdown",
   "metadata": {},
   "source": [
    "## sns.countplot"
   ]
  },
  {
   "cell_type": "code",
   "execution_count": null,
   "metadata": {
    "collapsed": true
   },
   "outputs": [],
   "source": [
    "sns.countplot('Sex',data=titanic_df,hue='Pclass')\n",
    "sns.countplot('Cabin',data=cabin_df,palette='winter_d',order=sorted(set(levels)))\n",
    "# palette= : 'summer', 'Blues', 'Set1' etc\n",
    "# order=['Rep','Dem','None']"
   ]
  },
  {
   "cell_type": "markdown",
   "metadata": {},
   "source": [
    "## sns.FacetGrid"
   ]
  },
  {
   "cell_type": "markdown",
   "metadata": {},
   "source": [
    "http://qiita.com/hik0107/items/865b75ae486728cb0006"
   ]
  },
  {
   "cell_type": "code",
   "execution_count": null,
   "metadata": {
    "collapsed": true
   },
   "outputs": [],
   "source": [
    "# FacetGridを使うと、複数のカーネル密度推定のグラフを1つのプロットに描くことができます。\n",
    "\n",
    "# 性別で層別化して、グラフを少し横長に設定します。\n",
    "fig = sns.FacetGrid(titanic_df, hue=\"Sex\",aspect=4)\n",
    "# row=, col= : グラフを分ける特徴。\n",
    "# hue= : グラフ内で色を分ける特徴。\n",
    "\n",
    "# mapを使って、性別ごとにkdeplotを描くようにします。\n",
    "fig.map(sns.kdeplot,'Age',shade= True)"
   ]
  },
  {
   "cell_type": "markdown",
   "metadata": {},
   "source": [
    "## sns.factorplot"
   ]
  },
  {
   "cell_type": "code",
   "execution_count": null,
   "metadata": {
    "collapsed": true
   },
   "outputs": [],
   "source": [
    "sns.factorplot('Pclass','Survived',hue='person',data=titanic_df, order=[1,2,3], aspect=2)\n",
    "# aspect : 横 = 縦 × aspect値"
   ]
  },
  {
   "cell_type": "markdown",
   "metadata": {},
   "source": [
    "# 識別マップ"
   ]
  },
  {
   "cell_type": "code",
   "execution_count": null,
   "metadata": {
    "collapsed": true
   },
   "outputs": [],
   "source": [
    "def plotBoundary(X, clf, mesh=True, boundary=True, n_neighbors=1):\n",
    "\n",
    "    # plot range\n",
    "    x_min = min(X[:,0])\n",
    "    x_max = max(X[:,0])\n",
    "    y_min = min(X[:,1])\n",
    "    y_max = max(X[:,1])\n",
    "\n",
    "    # visualizing decision function\n",
    "    XX, YY = np.mgrid[x_min:x_max:200j, y_min:y_max:200j] # make a grid\n",
    "    \n",
    "    Z = clf.predict(np.c_[XX.ravel(), YY.ravel()]) # evaluate the value \n",
    "    \n",
    "    Z = Z.reshape(XX.shape) # just reshape\n",
    "\n",
    "    if mesh:\n",
    "        plt.pcolormesh(XX, YY, Z, zorder=-10) # paint in 2 colors, if Z > 0 or not\n",
    "\n",
    "    if boundary:\n",
    "        plt.contour(XX, YY, Z, \n",
    "                    colors='k', linestyles='-', levels=[0])\n",
    "\n",
    "    plt.xlim(x_min, x_max)\n",
    "    plt.ylim(y_min, y_max)\n",
    "\n",
    "plt.scatter(X[:, 0], X[:, 1], marker='o', s=50, c=y)\n",
    "plotBoundary(X, clf) # 境界線の描画"
   ]
  },
  {
   "cell_type": "code",
   "execution_count": null,
   "metadata": {
    "collapsed": true
   },
   "outputs": [],
   "source": [
    "def plotBoundary(X, clf, mesh=True, cmap=plt.get_cmap()):\n",
    "\n",
    "    # plot range\n",
    "    x_min = min(X[:,0])\n",
    "    x_max = max(X[:,0])\n",
    "    y_min = min(X[:,1])\n",
    "    y_max = max(X[:,1])\n",
    "\n",
    "    # visualizing decision function\n",
    "    XX, YY = np.mgrid[x_min:x_max:200j, y_min:y_max:200j] # make a grid\n",
    "    \n",
    "    Z = clf.predict(np.c_[XX.ravel(), YY.ravel()]) # evaluate the value \n",
    "    \n",
    "    Z = Z.reshape(XX.shape) # just reshape\n",
    "\n",
    "    if mesh:\n",
    "        plt.pcolormesh(XX, YY, Z, zorder=-10, cmap=cmap)\n",
    "\n",
    "    plt.xlim(x_min, x_max)\n",
    "    plt.ylim(y_min, y_max)\n",
    "    \n",
    "plt.scatter(X[:, 0], X[:, 1], marker='o', s=50, c=y)\n",
    "plotBoundary(X, clf) # 境界線の描画"
   ]
  },
  {
   "cell_type": "code",
   "execution_count": null,
   "metadata": {
    "collapsed": true
   },
   "outputs": [],
   "source": [
    "def plotBoundary2(X, clf, boundary=True):\n",
    "    colors = ['k'];\n",
    "    linestyles = ['-'];\n",
    "    levels = [0];\n",
    "\n",
    "    # plot range\n",
    "    x_min = min(X[:,0])\n",
    "    x_max = max(X[:,0])\n",
    "    y_min = min(X[:,1])\n",
    "    y_max = max(X[:,1])\n",
    "\n",
    "    # visualizing decision function\n",
    "    XX, YY = np.mgrid[x_min:x_max:200j, y_min:y_max:200j] # make a grid\n",
    "    \n",
    "    Z = clf.decision_function(np.c_[XX.ravel(), YY.ravel()]) # evaluate the value \n",
    "    \n",
    "    n_classes = Z.shape[1]\n",
    "    \n",
    "    for c in range(n_classes):\n",
    "        Zc = Z[:,c].reshape(XX.shape) # just reshape\n",
    "\n",
    "        if boundary:\n",
    "            plt.contour(XX, YY, Zc, \n",
    "                        colors=colors,\n",
    "                        linestyles=linestyles,\n",
    "                        levels=levels) # draw lines (level=0:boundary)\n",
    "\n",
    "    plt.xlim(x_min, x_max)\n",
    "    plt.ylim(y_min, y_max)\n",
    "\n",
    "plt.scatter(X[:, 0], X[:, 1], marker='o', s=50, c=y)\n",
    "plotBoundary2(X, clf) # 境界線の描画"
   ]
  },
  {
   "cell_type": "code",
   "execution_count": null,
   "metadata": {
    "collapsed": true
   },
   "outputs": [],
   "source": [
    "def plotBoundary3(X, clf, mesh=True, boundary=True):\n",
    "    colors = ['k'];\n",
    "    linestyles = ['-.', '-', '--'];\n",
    "    levels = [-1,0,1];\n",
    "    cmaps = [plt.cm.Blues, plt.cm.Reds, plt.cm.Greens, plt.cm.Purples]\n",
    "    \n",
    "    # plot range\n",
    "    x_min = min(X[:,0])\n",
    "    x_max = max(X[:,0])\n",
    "    y_min = min(X[:,1])\n",
    "    y_max = max(X[:,1])\n",
    "\n",
    "    # visualizing decision function\n",
    "    XX, YY = np.mgrid[x_min:x_max:200j, y_min:y_max:200j] # make a grid\n",
    "    \n",
    "    Z = clf.decision_function(np.c_[XX.ravel(), YY.ravel()]) # evaluate the value \n",
    "    print(Z.shape)\n",
    "    n_classes = Z.shape[1]\n",
    "    \n",
    "    for c in range(n_classes):\n",
    "        Zc = Z[:,c].reshape(XX.shape) # just reshape\n",
    "        plt.show()\n",
    "        if mesh:\n",
    "            plt.pcolormesh(XX, YY, Zc, zorder=-10, cmap=cmaps[c])\n",
    "            plt.colorbar()\n",
    "            \n",
    "        if boundary:\n",
    "            plt.contour(XX, YY, Zc, \n",
    "                        colors=colors,\n",
    "                        linestyles=linestyles,\n",
    "                        levels=levels)\n",
    "\n",
    "    plt.xlim(x_min, x_max)\n",
    "    plt.ylim(y_min, y_max)\n",
    "    \n",
    "plt.scatter(X[:, 0], X[:, 1], marker='o', s=50, c=y)\n",
    "plotBoundary3(X, clf) # 境界線の描画"
   ]
  },
  {
   "cell_type": "code",
   "execution_count": null,
   "metadata": {
    "collapsed": true
   },
   "outputs": [],
   "source": [
    "import numpy.ma as ma # MaskedArray\n",
    "\n",
    "def plotBoundary4(X, clf, mesh=True, boundary=True):\n",
    "    colors = ['k'];\n",
    "    linestyles = ['-.', '-', '--'];\n",
    "    levels = [-1,0,1];\n",
    "    cmaps = [plt.cm.Blues, plt.cm.Reds, plt.cm.Greens, plt.cm.Purples]\n",
    "    \n",
    "    # plot range\n",
    "    x_min = min(X[:,0])\n",
    "    x_max = max(X[:,0])\n",
    "    y_min = min(X[:,1])\n",
    "    y_max = max(X[:,1])\n",
    "\n",
    "    # visualizing decision function\n",
    "    XX, YY = np.mgrid[x_min:x_max:200j, y_min:y_max:200j] # make a grid\n",
    "    \n",
    "    Z = clf.decision_function(np.c_[XX.ravel(), YY.ravel()]) # evaluate the value \n",
    "    \n",
    "    n_classes = Z.shape[1]\n",
    "    \n",
    "    Zmax = Z.argmax(axis=1).reshape(XX.shape)\n",
    "    \n",
    "    for c in range(n_classes):\n",
    "        Zc = ma.array(Z[:,c].reshape(XX.shape), mask=(Zmax != c))\n",
    "        \n",
    "        if mesh:\n",
    "            plt.pcolormesh(XX, YY, Zc, zorder=-10, cmap=cmaps[c])\n",
    "            \n",
    "        if boundary:\n",
    "            plt.contour(XX, YY, Zc, \n",
    "                        colors=colors,\n",
    "                        linestyles=linestyles,\n",
    "                        levels=levels)\n",
    "\n",
    "    plt.xlim(x_min, x_max)\n",
    "    plt.ylim(y_min, y_max)\n",
    "\n",
    "plt.scatter(X[:, 0], X[:, 1], marker='o', s=50, c=y)\n",
    "plotBoundary4(X, clf) # 境界線の描画"
   ]
  }
 ],
 "metadata": {
  "anaconda-cloud": {},
  "kernelspec": {
   "display_name": "Python 3",
   "language": "python",
   "name": "python3"
  },
  "language_info": {
   "codemirror_mode": {
    "name": "ipython",
    "version": 3
   },
   "file_extension": ".py",
   "mimetype": "text/x-python",
   "name": "python",
   "nbconvert_exporter": "python",
   "pygments_lexer": "ipython3",
   "version": "3.6.0"
  }
 },
 "nbformat": 4,
 "nbformat_minor": 2
}
