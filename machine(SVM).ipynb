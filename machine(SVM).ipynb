{
 "cells": [
  {
   "cell_type": "code",
   "execution_count": null,
   "metadata": {},
   "outputs": [],
   "source": [
    "import matplotlib.pyplot as plt\n",
    "%matplotlib inline\n",
    "plt.set_cmap(plt.cm.Paired)"
   ]
  },
  {
   "cell_type": "code",
   "execution_count": null,
   "metadata": {},
   "outputs": [],
   "source": [
    "import numpy as np\n",
    "from sklearn.datasets import make_blobs\n",
    "X, y = make_blobs(n_samples=20, # 20個生成\n",
    "                  n_features=2, # 2次元\n",
    "                  centers=2,    # クラスタ中心2個\n",
    "                  cluster_std = 2, # クラスタの大きさ（標準偏差）\n",
    "                  random_state=3   # 乱数種（再現用）\n",
    "                 )\n",
    "\n",
    "plt.scatter(X[:, 0], X[:, 1], c=y, s=50); # 2次元散布図でプロット"
   ]
  },
  {
   "cell_type": "code",
   "execution_count": null,
   "metadata": {},
   "outputs": [],
   "source": [
    "# 境界線を引く関数の定義\n",
    "\n",
    "def plotBoundary(X, clf, mesh=True, boundary=True, type='predict', clim=(None, None)):\n",
    "\n",
    "    # plot range\n",
    "    x_min = min(X[:,0])\n",
    "    x_max = max(X[:,0])\n",
    "    y_min = min(X[:,1])\n",
    "    y_max = max(X[:,1])\n",
    "\n",
    "    # visualizing decision function\n",
    "    XX, YY = np.mgrid[x_min:x_max:200j, y_min:y_max:200j] # make a grid\n",
    "    \n",
    "    if type == 'predict':\n",
    "        Z = clf.predict(np.c_[XX.ravel(), YY.ravel()])\n",
    "    elif type == 'probability':\n",
    "        Z = np.exp(clf.predict_log_proba(np.c_[XX.ravel(), YY.ravel()]))[:, 1]\n",
    "    else:\n",
    "        Z = clf.decision_function(np.c_[XX.ravel(), YY.ravel()])\n",
    "    \n",
    "    Z = Z.reshape(XX.shape) # just reshape\n",
    "\n",
    "    if mesh:\n",
    "        if type == 'predict':\n",
    "            plt.pcolormesh(XX, YY, Z, zorder=-10)\n",
    "        else:\n",
    "            plt.pcolormesh(XX, YY, Z, zorder=-10, cmap=plt.cm.bwr)\n",
    "            plt.colorbar()\n",
    "            plt.clim(clim[0], clim[1])\n",
    "\n",
    "    if boundary:\n",
    "        level = [0]\n",
    "        if type == \"probability\":\n",
    "            level = [0.5]\n",
    "        plt.contour(XX, YY, Z, \n",
    "                    colors='k', linestyles='-', levels=level)\n",
    "\n",
    "    plt.xlim(x_min, x_max)\n",
    "    plt.ylim(y_min, y_max)"
   ]
  },
  {
   "cell_type": "code",
   "execution_count": null,
   "metadata": {
    "collapsed": true
   },
   "outputs": [],
   "source": [
    "from sklearn.svm import SVC\n",
    "\n",
    "clf = SVC(kernel='linear')"
   ]
  },
  {
   "cell_type": "code",
   "execution_count": null,
   "metadata": {},
   "outputs": [],
   "source": [
    "clf.fit(X,y)\n",
    "\n",
    "plt.scatter(X[:, 0], X[:, 1], marker='o', s=50, c=y) # 2次元散布図でプロット\n",
    "\n",
    "plotBoundary(X, clf) # 境界線の描画"
   ]
  },
  {
   "cell_type": "code",
   "execution_count": null,
   "metadata": {},
   "outputs": [],
   "source": [
    "X, y = make_blobs(n_samples=20, # 20個生成\n",
    "                  n_features=2, # 2次元\n",
    "                  centers=2,    # クラスタ中心2個\n",
    "                  cluster_std =1, # クラスタの大きさ（標準偏差）\n",
    "                  random_state=8   # 乱数種（再現用）\n",
    "                 )\n",
    "plt.scatter(X[:, 0], X[:, 1], c=y, s=50); # 2次元散布図でプロット"
   ]
  },
  {
   "cell_type": "code",
   "execution_count": null,
   "metadata": {},
   "outputs": [],
   "source": [
    "clf.fit(X,y)\n",
    "\n",
    "plotBoundary(X, clf)\n",
    "    \n",
    "plt.scatter(X[:, 0], X[:, 1], marker='o', s=50, c=y)"
   ]
  },
  {
   "cell_type": "code",
   "execution_count": null,
   "metadata": {},
   "outputs": [],
   "source": [
    "X, y = make_blobs(n_samples=20, # 20個生成\n",
    "                  n_features=2, # 2次元\n",
    "                  centers=2,    # クラスタ中心2個\n",
    "                  cluster_std =1, # クラスタの大きさ（標準偏差）\n",
    "                  random_state=7   # 乱数種（再現用）\n",
    "                 )\n",
    "clf.fit(X,y)\n",
    "\n",
    "plotBoundary(X, clf)\n",
    "    \n",
    "plt.scatter(X[:, 0], X[:, 1], marker='o', s=50, c=y)"
   ]
  },
  {
   "cell_type": "code",
   "execution_count": null,
   "metadata": {},
   "outputs": [],
   "source": [
    "X, y = make_blobs(n_samples=20, # 20個生成\n",
    "                  n_features=2, # 2次元\n",
    "                  centers=2,    # クラスタ中心2個\n",
    "                  cluster_std =1, # クラスタの大きさ（標準偏差）\n",
    "                  random_state=4   # 乱数種（再現用）\n",
    "                 )\n",
    "\n",
    "clf.fit(X,y)\n",
    "\n",
    "plotBoundary(X, clf)\n",
    "    \n",
    "plt.scatter(X[:, 0], X[:, 1], marker='o', s=50, c=y)"
   ]
  },
  {
   "cell_type": "code",
   "execution_count": null,
   "metadata": {
    "collapsed": true
   },
   "outputs": [],
   "source": []
  },
  {
   "cell_type": "code",
   "execution_count": null,
   "metadata": {
    "collapsed": true
   },
   "outputs": [],
   "source": []
  },
  {
   "cell_type": "code",
   "execution_count": null,
   "metadata": {},
   "outputs": [],
   "source": [
    "from IPython.display import HTML\n",
    "HTML('<iframe scrolling=\"no\" src=\"https://www.geogebra.org/material/iframe/id/sqPXpNUQ/width/994/height/536/border/888888/sri/true/sdz/true\" width=\"994px\" height=\"536px\" style=\"border:0px;\"> </iframe>')"
   ]
  },
  {
   "cell_type": "code",
   "execution_count": null,
   "metadata": {
    "collapsed": true
   },
   "outputs": [],
   "source": []
  },
  {
   "cell_type": "code",
   "execution_count": null,
   "metadata": {
    "collapsed": true
   },
   "outputs": [],
   "source": []
  },
  {
   "cell_type": "code",
   "execution_count": null,
   "metadata": {
    "collapsed": true
   },
   "outputs": [],
   "source": [
    "\n",
    "def plotSVMBoundary(X, clf, mesh=True, boundary=True):\n",
    "    \n",
    "    # if SVM, draw margine lines\n",
    "    colors = ['k']*3\n",
    "    linestyles = ['-']*3\n",
    "    levels = [-1, 0, 1]\n",
    "    # if SVM, plot support vecters\n",
    "    plt.scatter(clf.support_vectors_[:, 0], \n",
    "                clf.support_vectors_[:, 1],\n",
    "                s=80, facecolors='none')\n",
    "    \n",
    "    # plot range\n",
    "    x_min = min(X[:,0])\n",
    "    x_max = max(X[:,0])\n",
    "    y_min = min(X[:,1])\n",
    "    y_max = max(X[:,1])\n",
    "\n",
    "    # visualizing decision function\n",
    "    XX, YY = np.mgrid[x_min:x_max:200j, y_min:y_max:200j] # make a grid\n",
    "    Z = clf.decision_function(np.c_[XX.ravel(), YY.ravel()]) # evaluate the value \n",
    "    Z = Z.reshape(XX.shape) # just reshape\n",
    "\n",
    "    if mesh:\n",
    "        plt.pcolormesh(XX, YY, Z > 0, cmap=plt.cm.Paired, zorder=-10)\n",
    "    if boundary:\n",
    "        plt.contour(XX, YY, Z, \n",
    "                    colors=colors,\n",
    "                    linestyles=linestyles,\n",
    "                    levels=levels) # draw lines (level=0:boundary, level=+-1:margine lines)\n",
    "\n",
    "    plt.xlim(x_min, x_max)\n",
    "    plt.ylim(y_min, y_max)"
   ]
  },
  {
   "cell_type": "code",
   "execution_count": null,
   "metadata": {
    "collapsed": true
   },
   "outputs": [],
   "source": []
  },
  {
   "cell_type": "code",
   "execution_count": null,
   "metadata": {
    "collapsed": true
   },
   "outputs": [],
   "source": []
  },
  {
   "cell_type": "code",
   "execution_count": null,
   "metadata": {},
   "outputs": [],
   "source": [
    "clf = SVC(kernel='linear')\n",
    "\n",
    "for rs in [3,8,7,4]:\n",
    "\n",
    "    X, y = make_blobs(n_samples=20, # 20個生成\n",
    "                      n_features=2, # 2次元\n",
    "                      centers=2,    # クラスタ中心2個\n",
    "                      cluster_std =1, # クラスタの大きさ（標準偏差）\n",
    "                      random_state=rs   # 乱数種（再現用）\n",
    "                     )\n",
    "    clf.fit(X,y)\n",
    "\n",
    "    plotSVMBoundary(X, clf)\n",
    "\n",
    "    plt.scatter(X[:, 0], X[:, 1], marker='o', s=50, c=y)\n",
    "\n",
    "    plt.show()"
   ]
  },
  {
   "cell_type": "code",
   "execution_count": null,
   "metadata": {
    "collapsed": true
   },
   "outputs": [],
   "source": []
  },
  {
   "cell_type": "code",
   "execution_count": null,
   "metadata": {
    "collapsed": true
   },
   "outputs": [],
   "source": []
  },
  {
   "cell_type": "code",
   "execution_count": null,
   "metadata": {
    "collapsed": true
   },
   "outputs": [],
   "source": []
  },
  {
   "cell_type": "code",
   "execution_count": null,
   "metadata": {
    "collapsed": true
   },
   "outputs": [],
   "source": []
  },
  {
   "cell_type": "code",
   "execution_count": null,
   "metadata": {},
   "outputs": [],
   "source": [
    "X, y = make_blobs(n_samples=20, # 20個生成\n",
    "                  n_features=2, # 2次元\n",
    "                  centers=2,    # クラスタ中心2個\n",
    "                  cluster_std = 2, # クラスタの大きさ（標準偏差）\n",
    "                  random_state=3   # 乱数種（再現用）\n",
    "                 )\n",
    "plt.scatter(X[:, 0], X[:, 1], c=y, s=50); # 2次元散布図でプロット"
   ]
  },
  {
   "cell_type": "code",
   "execution_count": null,
   "metadata": {},
   "outputs": [],
   "source": [
    "clf.probability = True\n",
    "clf.fit(X,y)\n",
    "\n",
    "plt.scatter(X[:, 0], X[:, 1], marker='o', s=50, c=y) # 2次元散布図でプロット\n",
    "\n",
    "plotBoundary(X, clf) # 境界線の描画"
   ]
  },
  {
   "cell_type": "code",
   "execution_count": null,
   "metadata": {},
   "outputs": [],
   "source": [
    "plt.scatter(X[:, 0], X[:, 1], marker='o', s=50, c=y) # 2次元散布図でプロット\n",
    "\n",
    "plotBoundary(X, clf, type=\"value\", clim=(-10, 10))\n",
    "\n",
    "for l, dx, dy in zip(y, X[:,0], X[:, 1]):\n",
    "    plt.annotate(l, xy=(dx-0.2, dy+0.4)) # plot label"
   ]
  },
  {
   "cell_type": "code",
   "execution_count": null,
   "metadata": {},
   "outputs": [],
   "source": [
    "plt.scatter(X[:, 0], X[:, 1], marker='o', s=50, c=y) # 2次元散布図でプロット\n",
    "\n",
    "plotBoundary(X, clf, type=\"probability\", clim=(0,1))\n",
    "\n",
    "for l, dx, dy in zip(y, X[:,0], X[:, 1]):\n",
    "    plt.annotate(l, xy=(dx-0.2, dy+0.4)) # plot label"
   ]
  },
  {
   "cell_type": "code",
   "execution_count": null,
   "metadata": {},
   "outputs": [],
   "source": [
    "plt.scatter(X[:, 0], X[:, 1], marker='o', s=50, c=y) # 2次元散布図でプロット\n",
    "\n",
    "plotBoundary(X, clf, type=\"probability\", clim=(0,1))\n",
    "\n",
    "X_test_value = np.exp(clf.predict_log_proba(X))[:, 1]\n",
    "\n",
    "for l, dx, dy in zip(X_test_value, X[:,0], X[:, 1]):\n",
    "    plt.annotate(\"{0:.2f}\".format(l), xy=(dx-0.4, dy+0.4)) # plot probabilities"
   ]
  },
  {
   "cell_type": "code",
   "execution_count": null,
   "metadata": {
    "collapsed": true
   },
   "outputs": [],
   "source": []
  },
  {
   "cell_type": "code",
   "execution_count": null,
   "metadata": {
    "collapsed": true
   },
   "outputs": [],
   "source": []
  },
  {
   "cell_type": "code",
   "execution_count": null,
   "metadata": {},
   "outputs": [],
   "source": [
    "for rs in [3,8,7,4]:\n",
    "\n",
    "    X, y = make_blobs(n_samples=20, # 20個生成\n",
    "                      n_features=2, # 2次元\n",
    "                      centers=2,    # クラスタ中心2個\n",
    "                      cluster_std =1, # クラスタの大きさ（標準偏差）\n",
    "                      random_state=rs   # 乱数種（再現用）\n",
    "                     )\n",
    "\n",
    "    clf.kernel = 'rbf' # default\n",
    "\n",
    "    clf.fit(X,y)\n",
    "    plotSVMBoundary(X, clf, mesh=True)\n",
    "    plt.scatter(X[:, 0], X[:, 1], marker='o', s=50, c=y)\n",
    "    \n",
    "    plt.show()"
   ]
  },
  {
   "cell_type": "code",
   "execution_count": null,
   "metadata": {},
   "outputs": [],
   "source": [
    "for rs in [3,8,7,4]:\n",
    "\n",
    "    X, y = make_blobs(n_samples=20, # 20個生成\n",
    "                      n_features=2, # 2次元\n",
    "                      centers=2,    # クラスタ中心2個\n",
    "                      cluster_std =1, # クラスタの大きさ（標準偏差）\n",
    "                      random_state=rs   # 乱数種（再現用）\n",
    "                     )\n",
    "    clf.kernel = 'poly'\n",
    "    \n",
    "    clf.fit(X,y)\n",
    "    plotSVMBoundary(X, clf, mesh=True)\n",
    "    plt.scatter(X[:, 0], X[:, 1], marker='o', s=50, c=y)\n",
    "    \n",
    "    plt.show()"
   ]
  },
  {
   "cell_type": "code",
   "execution_count": null,
   "metadata": {
    "collapsed": true
   },
   "outputs": [],
   "source": []
  },
  {
   "cell_type": "code",
   "execution_count": null,
   "metadata": {},
   "outputs": [],
   "source": [
    "for C in [1e-5, 1, 1e5, 1e10]:\n",
    "\n",
    "    X, y = make_blobs(n_samples=20, # 20個生成\n",
    "                      n_features=2, # 2次元\n",
    "                      centers=2,    # クラスタ中心2個\n",
    "                      cluster_std =1, # クラスタの大きさ（標準偏差）\n",
    "                      random_state=4   # 乱数種（再現用）\n",
    "                     )\n",
    "    clf.kernel = 'rbf'\n",
    "    \n",
    "    clf.C = C\n",
    "    clf.fit(X,y)\n",
    "    plotSVMBoundary(X, clf, mesh=True)\n",
    "    plt.scatter(X[:, 0], X[:, 1], marker='o', s=50, c=y)\n",
    "    plt.title(\"C={0:.0e}\".format(C))\n",
    "    \n",
    "    plt.show()"
   ]
  },
  {
   "cell_type": "code",
   "execution_count": null,
   "metadata": {
    "collapsed": true
   },
   "outputs": [],
   "source": []
  },
  {
   "cell_type": "code",
   "execution_count": null,
   "metadata": {
    "collapsed": true
   },
   "outputs": [],
   "source": [
    "from sklearn.datasets import load_breast_cancer\n",
    "data = load_breast_cancer()\n",
    "X = data.data\n",
    "y = data.target"
   ]
  },
  {
   "cell_type": "code",
   "execution_count": null,
   "metadata": {
    "collapsed": true
   },
   "outputs": [],
   "source": [
    "from sklearn.model_selection import ShuffleSplit\n",
    "ss = ShuffleSplit(n_splits=1, \n",
    "                  train_size=0.8, \n",
    "                  test_size=0.2, \n",
    "                  random_state=0)\n",
    "\n",
    "train_index, test_index = next(ss.split(X, y))\n",
    "\n",
    "X_train, X_test = X[train_index], X[test_index]\n",
    "y_train, y_test = y[train_index], y[test_index]"
   ]
  },
  {
   "cell_type": "code",
   "execution_count": null,
   "metadata": {
    "collapsed": true
   },
   "outputs": [],
   "source": [
    "clf = SVC()"
   ]
  },
  {
   "cell_type": "code",
   "execution_count": null,
   "metadata": {},
   "outputs": [],
   "source": [
    "clf.kernel = 'linear'\n",
    "\n",
    "clf.fit(X_train, y_train)\n",
    "clf.score(X_test, y_test)"
   ]
  },
  {
   "cell_type": "code",
   "execution_count": null,
   "metadata": {},
   "outputs": [],
   "source": [
    "clf.kernel = 'rbf'\n",
    "\n",
    "clf.fit(X_train, y_train)\n",
    "clf.score(X_test, y_test)"
   ]
  },
  {
   "cell_type": "code",
   "execution_count": null,
   "metadata": {
    "collapsed": true
   },
   "outputs": [],
   "source": [
    "# clf.kernel = 'poly'\n",
    "\n",
    "# clf.fit(X_train, y_train) # 終わらない！\n",
    "# clf.score(X_test, y_test)"
   ]
  },
  {
   "cell_type": "code",
   "execution_count": null,
   "metadata": {
    "collapsed": true
   },
   "outputs": [],
   "source": []
  },
  {
   "cell_type": "code",
   "execution_count": null,
   "metadata": {
    "collapsed": true
   },
   "outputs": [],
   "source": [
    "from sklearn.preprocessing import MinMaxScaler\n",
    "scaler = MinMaxScaler()\n",
    "scaler.fit(X_train)\n",
    "X_train_scale = scaler.transform(X_train)\n",
    "X_test_scale  = scaler.transform(X_test)"
   ]
  },
  {
   "cell_type": "code",
   "execution_count": null,
   "metadata": {},
   "outputs": [],
   "source": [
    "clf.kernel = 'linear'\n",
    "\n",
    "clf.fit(X_train_scale, y_train)\n",
    "clf.score(X_test_scale, y_test)"
   ]
  },
  {
   "cell_type": "code",
   "execution_count": null,
   "metadata": {},
   "outputs": [],
   "source": [
    "clf.kernel = 'rbf'\n",
    "\n",
    "clf.fit(X_train_scale, y_train)\n",
    "clf.score(X_test_scale, y_test)"
   ]
  },
  {
   "cell_type": "code",
   "execution_count": null,
   "metadata": {},
   "outputs": [],
   "source": [
    "clf.kernel = 'poly'\n",
    "\n",
    "clf.fit(X_train_scale, y_train)\n",
    "clf.score(X_test_scale, y_test)"
   ]
  },
  {
   "cell_type": "code",
   "execution_count": null,
   "metadata": {
    "collapsed": true
   },
   "outputs": [],
   "source": []
  }
 ],
 "metadata": {
  "anaconda-cloud": {},
  "kernelspec": {
   "display_name": "Python 3",
   "language": "python",
   "name": "python3"
  },
  "language_info": {
   "codemirror_mode": {
    "name": "ipython",
    "version": 3
   },
   "file_extension": ".py",
   "mimetype": "text/x-python",
   "name": "python",
   "nbconvert_exporter": "python",
   "pygments_lexer": "ipython3",
   "version": "3.6.0"
  }
 },
 "nbformat": 4,
 "nbformat_minor": 1
}
